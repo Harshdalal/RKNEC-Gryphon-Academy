{
  "nbformat": 4,
  "nbformat_minor": 0,
  "metadata": {
    "colab": {
      "provenance": []
    },
    "kernelspec": {
      "name": "python3",
      "display_name": "Python 3"
    },
    "language_info": {
      "name": "python"
    }
  },
  "cells": [
    {
      "cell_type": "markdown",
      "source": [
        "#✅ Step 1: Load the Dataset\n",
        "We'll fetch the full version (bank-additional-full.csv) directly from a publicly accessible GitHub repo:"
      ],
      "metadata": {
        "id": "5PkH6f9C1Dn-"
      }
    },
    {
      "cell_type": "code",
      "execution_count": 18,
      "metadata": {
        "colab": {
          "base_uri": "https://localhost:8080/"
        },
        "id": "7FJctaeyz9qM",
        "outputId": "daaf605c-9a6a-4807-c981-2c415ab719bf"
      },
      "outputs": [
        {
          "output_type": "stream",
          "name": "stdout",
          "text": [
            "Loaded rows: 41188 columns: 21\n"
          ]
        }
      ],
      "source": [
        "import pandas as pd\n",
        "\n",
        "url = \"https://raw.githubusercontent.com/llhthinker/MachineLearningLab/master/UCI%20Bank%20Marketing%20Data%20Set/data/bank-additional/bank-additional-full.csv\"\n",
        "df = pd.read_csv(url, sep=';')\n",
        "print(\"Loaded rows:\", df.shape[0], \"columns:\", df.shape[1])\n"
      ]
    },
    {
      "cell_type": "markdown",
      "source": [
        "#🔧 Step 2: Preprocessing"
      ],
      "metadata": {
        "id": "zChgcEtx1Jzt"
      }
    },
    {
      "cell_type": "code",
      "source": [
        "# Convert target to binary\n",
        "df['y'] = df['y'].map({'yes': 1, 'no': 0})\n",
        "\n",
        "# Drop 'duration' (leak feature known only post-call)\n",
        "df = df.drop(columns=['duration'])\n",
        "\n",
        "# One-hot encode categorical features\n",
        "df = pd.get_dummies(df, drop_first=True)\n",
        "\n",
        "# Split into features and target\n",
        "X = df.drop('y', axis=1)\n",
        "y = df['y']\n"
      ],
      "metadata": {
        "id": "QVRHUww30ShF"
      },
      "execution_count": 19,
      "outputs": []
    },
    {
      "cell_type": "code",
      "source": [
        "# Train-test split\n",
        "from sklearn.model_selection import train_test_split\n",
        "X_train, X_test, y_train, y_test = train_test_split(X, y, test_size=0.2, random_state=42)\n",
        "\n",
        "# Standardize numeric features\n",
        "from sklearn.preprocessing import StandardScaler\n",
        "scaler = StandardScaler()\n",
        "X_train = scaler.fit_transform(X_train)\n",
        "X_test = scaler.transform(X_test)\n"
      ],
      "metadata": {
        "id": "n7t3xBxt6a61"
      },
      "execution_count": 20,
      "outputs": []
    },
    {
      "cell_type": "markdown",
      "source": [
        "#🤖 Step 3: Train the Logistic Regression Model"
      ],
      "metadata": {
        "id": "9WNRg4OS1N6v"
      }
    },
    {
      "cell_type": "code",
      "source": [
        "from sklearn.linear_model import LogisticRegression\n",
        "model = LogisticRegression(max_iter=1000)\n",
        "model.fit(X_train, y_train)\n",
        "y_pred = model.predict(X_test)\n"
      ],
      "metadata": {
        "id": "OcoYSree1Lvh"
      },
      "execution_count": 21,
      "outputs": []
    },
    {
      "cell_type": "markdown",
      "source": [
        "#📊 Step 4: Evaluation with Confusion Matrix"
      ],
      "metadata": {
        "id": "HW6SuC446iKL"
      }
    },
    {
      "cell_type": "code",
      "source": [
        "from sklearn.metrics import confusion_matrix, accuracy_score, classification_report\n",
        "import seaborn as sns\n",
        "import matplotlib.pyplot as plt\n",
        "\n",
        "# Compute confusion matrix\n",
        "cm = confusion_matrix(y_test, y_pred)\n",
        "print(\"Confusion Matrix:\\n\", cm)\n",
        "\n",
        "# Visualize it\n",
        "plt.figure(figsize=(5,4))\n",
        "sns.heatmap(cm, annot=True, fmt='d', cmap='Blues',\n",
        "            xticklabels=['No','Yes'], yticklabels=['No','Yes'])\n",
        "plt.xlabel('Predicted')\n",
        "plt.ylabel('Actual')\n",
        "plt.title('Confusion Matrix')\n",
        "plt.show()\n",
        "\n",
        "\n"
      ],
      "metadata": {
        "colab": {
          "base_uri": "https://localhost:8080/",
          "height": 462
        },
        "id": "_kT4TGqe1TTZ",
        "outputId": "0ac131ca-7135-43f9-a292-0fa78ea8e950"
      },
      "execution_count": 23,
      "outputs": [
        {
          "output_type": "stream",
          "name": "stdout",
          "text": [
            "Confusion Matrix:\n",
            " [[7190  113]\n",
            " [ 737  198]]\n"
          ]
        },
        {
          "output_type": "display_data",
          "data": {
            "text/plain": [
              "<Figure size 500x400 with 2 Axes>"
            ],
            "image/png": "[encoded data removed]"
          },
          "metadata": {}
        }
      ]
    },
    {
      "cell_type": "code",
      "source": [
        "# Accuracy and detailed metrics\n",
        "print(\"Accuracy:\", accuracy_score(y_test, y_pred))\n",
        "print(\"\\nClassification Report:\\n\", classification_report(y_test, y_pred, target_names=['No','Yes']))"
      ],
      "metadata": {
        "colab": {
          "base_uri": "https://localhost:8080/"
        },
        "id": "zzlApKFH6nmg",
        "outputId": "10af9e93-817d-49f4-a943-4b5cefdc8433"
      },
      "execution_count": 24,
      "outputs": [
        {
          "output_type": "stream",
          "name": "stdout",
          "text": [
            "Accuracy: 0.8968196164117505\n",
            "\n",
            "Classification Report:\n",
            "               precision    recall  f1-score   support\n",
            "\n",
            "          No       0.91      0.98      0.94      7303\n",
            "         Yes       0.64      0.21      0.32       935\n",
            "\n",
            "    accuracy                           0.90      8238\n",
            "   macro avg       0.77      0.60      0.63      8238\n",
            "weighted avg       0.88      0.90      0.87      8238\n",
            "\n"
          ]
        }
      ]
    },
    {
      "cell_type": "markdown",
      "source": [
        "The model achieves high accuracy, but poor recall on “Yes” class, highlighting class imbalance.\n",
        "\n",
        "Use metrics like F1-score & recall to better assess performance on rare events."
      ],
      "metadata": {
        "id": "MHp6FpYZ6uzK"
      }
    },
    {
      "cell_type": "markdown",
      "source": [
        "#💡 Summary & Suggestions\n",
        "✅ Model: Trained Logistic Regression on UCI Bank data.\n",
        "\n",
        "🧪 Evaluation: Used confusion matrix and classification report.\n",
        "\n",
        "⚠️ Observation: Struggled to detect term-deposit subscriptions (class imbalance).\n",
        "\n",
        "🛠️ Improvements: Try resampling (SMOTE, oversampling/undersampling), weighted loss functions, or precision-recall tradeoffs."
      ],
      "metadata": {
        "id": "_cpp2qj46w58"
      }
    },
    {
      "cell_type": "markdown",
      "source": [
        "#📈 Step 5: Test Result Visualization"
      ],
      "metadata": {
        "id": "M9qlHLnX7DHc"
      }
    },
    {
      "cell_type": "code",
      "source": [
        "import numpy as np\n",
        "import matplotlib.pyplot as plt\n",
        "import pandas as pd\n",
        "\n",
        "# Count of actual vs predicted values\n",
        "actual_counts = y_test.value_counts().sort_index()\n",
        "pred_counts = pd.Series(y_pred).value_counts().sort_index()\n",
        "\n",
        "# Plotting\n",
        "x_labels = ['No', 'Yes']\n",
        "x = np.arange(len(x_labels))\n",
        "\n",
        "fig, ax = plt.subplots(figsize=(6,4))\n",
        "bar1 = ax.bar(x - 0.2, actual_counts, 0.4, label='Actual')\n",
        "bar2 = ax.bar(x + 0.2, pred_counts, 0.4, label='Predicted')\n",
        "\n",
        "ax.set_xlabel('Class')\n",
        "ax.set_ylabel('Count')\n",
        "ax.set_title('Actual vs Predicted Class Distribution')\n",
        "ax.set_xticks(x)\n",
        "ax.set_xticklabels(x_labels)\n",
        "ax.legend()\n",
        "\n",
        "# Annotate bar values\n",
        "for bar in bar1 + bar2:\n",
        "    height = bar.get_height()\n",
        "    ax.annotate(f'{height}',\n",
        "                xy=(bar.get_x() + bar.get_width() / 2, height),\n",
        "                xytext=(0, 3),\n",
        "                textcoords=\"offset points\",\n",
        "                ha='center', va='bottom')\n",
        "\n",
        "plt.tight_layout()\n",
        "plt.show()\n"
      ],
      "metadata": {
        "colab": {
          "base_uri": "https://localhost:8080/",
          "height": 407
        },
        "id": "9jisF3Ad6vGc",
        "outputId": "eb8a4a66-9b28-482d-e919-3f5528265511"
      },
      "execution_count": 25,
      "outputs": [
        {
          "output_type": "display_data",
          "data": {
            "text/plain": [
              "<Figure size 600x400 with 1 Axes>"
            ],
            "image/png": "[encoded data removed]"
          },
          "metadata": {}
        }
      ]
    },
    {
      "cell_type": "code",
      "source": [],
      "metadata": {
        "id": "EJdf3Xrk7BiE"
      },
      "execution_count": null,
      "outputs": []
    }
  ]
}