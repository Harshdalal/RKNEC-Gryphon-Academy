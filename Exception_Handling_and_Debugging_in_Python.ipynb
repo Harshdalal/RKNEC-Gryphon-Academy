{
  "nbformat": 4,
  "nbformat_minor": 0,
  "metadata": {
    "colab": {
      "provenance": []
    },
    "kernelspec": {
      "name": "python3",
      "display_name": "Python 3"
    },
    "language_info": {
      "name": "python"
    }
  },
  "cells": [
    {
      "cell_type": "markdown",
      "source": [
        "# Exception Handling and Debugging in Python\n",
        "\n",
        "✅ What exceptions are\n",
        "\n",
        "⚠️ try, except, else, finally\n",
        "\n",
        "✅ Raising exceptions manually\n",
        "\n",
        "🔍 Basic debugging practices (print, traceback, pdb)"
      ],
      "metadata": {
        "id": "CkyAsYtj5UZN"
      }
    },
    {
      "cell_type": "markdown",
      "source": [
        "#✅ 1. What is an Exception?\n",
        "\n",
        "Exceptions are errors that occur at runtime and stop the program unless handled."
      ],
      "metadata": {
        "id": "HyNoN8mi5ZqO"
      }
    },
    {
      "cell_type": "code",
      "execution_count": 1,
      "metadata": {
        "id": "VQpcTDZn5ScK"
      },
      "outputs": [],
      "source": [
        "# Example: Division by zero error\n",
        "# print(10 / 0)  # This will raise ZeroDivisionError\n"
      ]
    },
    {
      "cell_type": "markdown",
      "source": [
        "#⚠️ 2. Basic Try-Except Block"
      ],
      "metadata": {
        "id": "hHIJdVDq5gWj"
      }
    },
    {
      "cell_type": "code",
      "source": [
        "# Use try-except to handle errors gracefully\n",
        "\n",
        "try:\n",
        "    x = int(input(\"Enter a number: \"))\n",
        "    print(\"You entered:\", x)\n",
        "except ValueError:\n",
        "    print(\"That was not a valid number!\")\n"
      ],
      "metadata": {
        "colab": {
          "base_uri": "https://localhost:8080/"
        },
        "id": "xN05EwAY5cih",
        "outputId": "04176a1b-8b8a-4963-bd78-17c689b3be24"
      },
      "execution_count": 3,
      "outputs": [
        {
          "output_type": "stream",
          "name": "stdout",
          "text": [
            "Enter a number: dqw\n",
            "That was not a valid number!\n"
          ]
        }
      ]
    },
    {
      "cell_type": "markdown",
      "source": [
        "#🔁 3. Try-Except-Else-Finally Structure"
      ],
      "metadata": {
        "id": "1ezjzj6g5nWP"
      }
    },
    {
      "cell_type": "code",
      "source": [
        "try:\n",
        "    num = int(input(\"Enter a number to divide 100: \"))\n",
        "    result = 100 / num\n",
        "except ZeroDivisionError:\n",
        "    print(\"Cannot divide by zero!\")\n",
        "except ValueError:\n",
        "    print(\"Invalid input! Not a number.\")\n",
        "else:\n",
        "    print(\"Result is:\", result)\n",
        "finally:\n",
        "    print(\"Execution complete. This block always runs.\")\n"
      ],
      "metadata": {
        "colab": {
          "base_uri": "https://localhost:8080/"
        },
        "id": "wiwlb97b5iY2",
        "outputId": "e3107bed-8c84-4aa2-cc90-22809366f1f0"
      },
      "execution_count": 4,
      "outputs": [
        {
          "output_type": "stream",
          "name": "stdout",
          "text": [
            "Enter a number to divide 100: 23\n",
            "Result is: 4.3478260869565215\n",
            "Execution complete. This block always runs.\n"
          ]
        }
      ]
    },
    {
      "cell_type": "markdown",
      "source": [
        "#🧨 4. Catching Multiple Exceptions"
      ],
      "metadata": {
        "id": "ptPa3WFJ5tJo"
      }
    },
    {
      "cell_type": "code",
      "source": [
        "try:\n",
        "    a = int(\"ten\")  # Causes ValueError\n",
        "    b = 10 / 0      # Causes ZeroDivisionError\n",
        "except (ValueError, ZeroDivisionError) as e:\n",
        "    print(\"An error occurred:\", e)\n"
      ],
      "metadata": {
        "colab": {
          "base_uri": "https://localhost:8080/"
        },
        "id": "x1IsMhbi5pet",
        "outputId": "f0b7ef47-8437-4030-8afb-d72f39955e1e"
      },
      "execution_count": 5,
      "outputs": [
        {
          "output_type": "stream",
          "name": "stdout",
          "text": [
            "An error occurred: invalid literal for int() with base 10: 'ten'\n"
          ]
        }
      ]
    },
    {
      "cell_type": "markdown",
      "source": [
        "#🚫 5. Raising Custom Exceptions"
      ],
      "metadata": {
        "id": "NdOvsib-5w0V"
      }
    },
    {
      "cell_type": "code",
      "source": [
        "# Raise your own error using 'raise'\n",
        "\n",
        "def check_age(age):\n",
        "    if age < 0:\n",
        "        raise ValueError(\"Age cannot be negative!\")\n",
        "    else:\n",
        "        print(\"Age is valid.\")\n",
        "\n",
        "try:\n",
        "    check_age(-5)\n",
        "except ValueError as e:\n",
        "    print(\"Caught an exception:\", e)\n"
      ],
      "metadata": {
        "colab": {
          "base_uri": "https://localhost:8080/"
        },
        "id": "5UQxIGNv5vIk",
        "outputId": "78e579c2-e5b0-4dcd-e48f-f503374dca53"
      },
      "execution_count": 6,
      "outputs": [
        {
          "output_type": "stream",
          "name": "stdout",
          "text": [
            "Caught an exception: Age cannot be negative!\n"
          ]
        }
      ]
    },
    {
      "cell_type": "markdown",
      "source": [
        "#🔍 6. DEBUGGING PRACTICES\n",
        "\n",
        "🛠️ A. Using print() statements"
      ],
      "metadata": {
        "id": "4m5CQ_yw50Hj"
      }
    },
    {
      "cell_type": "code",
      "source": [
        "def divide(a, b):\n",
        "    print(f\"Dividing {a} by {b}\")  # Debug info\n",
        "    return a / b\n",
        "\n",
        "print(divide(10, 2))  # Correct\n",
        "# print(divide(10, 0))  # Uncomment to see the crash\n"
      ],
      "metadata": {
        "colab": {
          "base_uri": "https://localhost:8080/"
        },
        "id": "ulDJAnEN5ydt",
        "outputId": "8ea25f6c-c81b-42a0-aad5-b7c84a3f9864"
      },
      "execution_count": 7,
      "outputs": [
        {
          "output_type": "stream",
          "name": "stdout",
          "text": [
            "Dividing 10 by 2\n",
            "5.0\n"
          ]
        }
      ]
    },
    {
      "cell_type": "markdown",
      "source": [
        "#🛠️ B. Using traceback module (for detailed errors)"
      ],
      "metadata": {
        "id": "2V_YM7rs568q"
      }
    },
    {
      "cell_type": "code",
      "source": [
        "import traceback\n",
        "\n",
        "try:\n",
        "    result = 10 / 0\n",
        "except Exception as e:\n",
        "    print(\"Something went wrong.\")\n",
        "    traceback.print_exc()  # Prints detailed error stack\n"
      ],
      "metadata": {
        "colab": {
          "base_uri": "https://localhost:8080/"
        },
        "id": "ukXx0QCM53dV",
        "outputId": "d1257cf4-a5b8-455b-c729-51b749017b45"
      },
      "execution_count": 8,
      "outputs": [
        {
          "output_type": "stream",
          "name": "stdout",
          "text": [
            "Something went wrong.\n"
          ]
        },
        {
          "output_type": "stream",
          "name": "stderr",
          "text": [
            "Traceback (most recent call last):\n",
            "  File \"<ipython-input-8-1155219331>\", line 4, in <cell line: 0>\n",
            "    result = 10 / 0\n",
            "             ~~~^~~\n",
            "ZeroDivisionError: division by zero\n"
          ]
        }
      ]
    },
    {
      "cell_type": "markdown",
      "source": [
        "#🛠️ C. Using the Python Debugger (pdb)"
      ],
      "metadata": {
        "id": "0-sJWxJM5_k1"
      }
    },
    {
      "cell_type": "code",
      "source": [
        "# Uncomment to use the debugger\n",
        "# import pdb\n",
        "\n",
        "def calculate_total(price, quantity):\n",
        "    # pdb.set_trace()  # Start interactive debugger here\n",
        "    return price * quantity\n",
        "\n",
        "print(calculate_total(50, 2))\n"
      ],
      "metadata": {
        "colab": {
          "base_uri": "https://localhost:8080/"
        },
        "id": "neqfjbm_59H9",
        "outputId": "26788a77-06ad-4a1f-b44f-7ed5f9e7fcb7"
      },
      "execution_count": 9,
      "outputs": [
        {
          "output_type": "stream",
          "name": "stdout",
          "text": [
            "100\n"
          ]
        }
      ]
    },
    {
      "cell_type": "markdown",
      "source": [
        "#🧪 BONUS: Common Exceptions in Python\n",
        "\n",
        "| Exception           | Description                           |\n",
        "| ------------------- | ------------------------------------- |\n",
        "| `ValueError`        | Wrong value type (e.g. int(\"abc\"))    |\n",
        "| `TypeError`         | Operation on incompatible types       |\n",
        "| `ZeroDivisionError` | Division by zero                      |\n",
        "| `IndexError`        | List index out of range               |\n",
        "| `KeyError`          | Accessing non-existent dictionary key |\n",
        "| `FileNotFoundError` | File does not exist                   |\n"
      ],
      "metadata": {
        "id": "mLnOq5RM6Dgi"
      }
    },
    {
      "cell_type": "markdown",
      "source": [
        "#✅ Summary\n",
        "Use try...except to handle runtime errors.\n",
        "\n",
        "else: runs when no error occurs.\n",
        "\n",
        "finally: always runs.\n",
        "\n",
        "Use raise to throw your own exceptions.\n",
        "\n",
        "Debug with print, traceback, or pdb."
      ],
      "metadata": {
        "id": "Z_FHqErn6HJP"
      }
    },
    {
      "cell_type": "code",
      "source": [],
      "metadata": {
        "id": "cfTPZJ_66Btt"
      },
      "execution_count": null,
      "outputs": []
    }
  ]
}