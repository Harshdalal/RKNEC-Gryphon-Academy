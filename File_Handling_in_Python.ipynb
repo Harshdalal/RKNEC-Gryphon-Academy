{
  "nbformat": 4,
  "nbformat_minor": 0,
  "metadata": {
    "colab": {
      "provenance": []
    },
    "kernelspec": {
      "name": "python3",
      "display_name": "Python 3"
    },
    "language_info": {
      "name": "python"
    }
  },
  "cells": [
    {
      "cell_type": "markdown",
      "source": [
        "# File Handling in Python\n",
        "This practical covers reading and writing of:\n",
        "\n",
        "✅ TXT files\n",
        "\n",
        "✅ CSV files\n",
        "\n",
        "✅ JSON files\n",
        "\n",
        "✅ XML files"
      ],
      "metadata": {
        "id": "6t1joJSh_qg3"
      }
    },
    {
      "cell_type": "markdown",
      "source": [
        "#📁 1. TXT File Handling\n",
        "🔹 Writing to a .txt file"
      ],
      "metadata": {
        "id": "VZ8VZRgL_vvA"
      }
    },
    {
      "cell_type": "code",
      "execution_count": 1,
      "metadata": {
        "id": "Y_fIMBkh6NqJ"
      },
      "outputs": [],
      "source": [
        "# Open a file in write mode ('w') and write a string to it\n",
        "with open(\"sample.txt\", \"w\") as file:\n",
        "    file.write(\"Hello, this is a text file.\\n\")\n",
        "    file.write(\"Welcome to Python file handling!\\n\")\n"
      ]
    },
    {
      "cell_type": "markdown",
      "source": [
        "#🔹 Reading from a .txt file"
      ],
      "metadata": {
        "id": "DN3R1t_U_3XI"
      }
    },
    {
      "cell_type": "code",
      "source": [
        "# Open a file in read mode ('r') and print its contents\n",
        "with open(\"sample.txt\", \"r\") as file:\n",
        "    content = file.read()\n",
        "    print(\"Contents of sample.txt:\")\n",
        "    print(content)\n"
      ],
      "metadata": {
        "colab": {
          "base_uri": "https://localhost:8080/"
        },
        "id": "6IB7QlSJ_0-h",
        "outputId": "47e48f38-56c8-432c-aae9-e95d58e42739"
      },
      "execution_count": 2,
      "outputs": [
        {
          "output_type": "stream",
          "name": "stdout",
          "text": [
            "Contents of sample.txt:\n",
            "Hello, this is a text file.\n",
            "Welcome to Python file handling!\n",
            "\n"
          ]
        }
      ]
    },
    {
      "cell_type": "markdown",
      "source": [
        "#📑 2. CSV File Handling (Using csv module)\n",
        "🔹 Writing to a .csv file"
      ],
      "metadata": {
        "id": "TfK0-14UAK1E"
      }
    },
    {
      "cell_type": "code",
      "source": [
        "import csv\n",
        "\n",
        "# Writing a list of rows to a CSV file\n",
        "with open(\"data.csv\", \"w\", newline='') as csvfile:\n",
        "    writer = csv.writer(csvfile)\n",
        "    writer.writerow([\"Name\", \"Age\", \"City\"])\n",
        "    writer.writerow([\"Alice\", 25, \"New York\"])\n",
        "    writer.writerow([\"Bob\", 30, \"London\"])\n"
      ],
      "metadata": {
        "id": "vkEh_GwkAIiI"
      },
      "execution_count": 3,
      "outputs": []
    },
    {
      "cell_type": "markdown",
      "source": [
        "#🔹 Reading from a .csv file"
      ],
      "metadata": {
        "id": "Q_vt9RXAAQ4n"
      }
    },
    {
      "cell_type": "code",
      "source": [
        "import csv\n",
        "\n",
        "# Reading from a CSV file\n",
        "with open(\"data.csv\", \"r\") as csvfile:\n",
        "    reader = csv.reader(csvfile)\n",
        "    for row in reader:\n",
        "        print(\"Row:\", row)\n"
      ],
      "metadata": {
        "colab": {
          "base_uri": "https://localhost:8080/"
        },
        "id": "B-zLrCYxAO8_",
        "outputId": "bf821c5e-b6e1-4523-eabb-5bd5a47ee569"
      },
      "execution_count": 4,
      "outputs": [
        {
          "output_type": "stream",
          "name": "stdout",
          "text": [
            "Row: ['Name', 'Age', 'City']\n",
            "Row: ['Alice', '25', 'New York']\n",
            "Row: ['Bob', '30', 'London']\n"
          ]
        }
      ]
    },
    {
      "cell_type": "markdown",
      "source": [
        "#🌐 3. JSON File Handling (Using json module)\n",
        "🔹 Writing to a .json file"
      ],
      "metadata": {
        "id": "fnJizZlgAU0v"
      }
    },
    {
      "cell_type": "code",
      "source": [
        "import json\n",
        "\n",
        "data = {\n",
        "    \"name\": \"Alice\",\n",
        "    \"age\": 25,\n",
        "    \"city\": \"New York\"\n",
        "}\n",
        "\n",
        "# Writing dictionary to JSON file\n",
        "with open(\"data.json\", \"w\") as jsonfile:\n",
        "    json.dump(data, jsonfile, indent=4)\n"
      ],
      "metadata": {
        "id": "tr5YFTzgATB4"
      },
      "execution_count": 5,
      "outputs": []
    },
    {
      "cell_type": "markdown",
      "source": [
        "🔹 Reading from a .json file"
      ],
      "metadata": {
        "id": "pzCb8TraAb8D"
      }
    },
    {
      "cell_type": "code",
      "source": [
        "import json\n",
        "\n",
        "# Reading from a JSON file\n",
        "with open(\"data.json\", \"r\") as jsonfile:\n",
        "    content = json.load(jsonfile)\n",
        "    print(\"JSON Data:\", content)\n"
      ],
      "metadata": {
        "colab": {
          "base_uri": "https://localhost:8080/"
        },
        "id": "_e93ZPlYAWw_",
        "outputId": "91c70188-af05-4034-f14d-3305bf219130"
      },
      "execution_count": 6,
      "outputs": [
        {
          "output_type": "stream",
          "name": "stdout",
          "text": [
            "JSON Data: {'name': 'Alice', 'age': 25, 'city': 'New York'}\n"
          ]
        }
      ]
    },
    {
      "cell_type": "markdown",
      "source": [
        "#🧾 4. XML File Handling (Using xml.etree.ElementTree)\n",
        "🔹 Writing to an .xml file"
      ],
      "metadata": {
        "id": "cTSoFTp4Andt"
      }
    },
    {
      "cell_type": "code",
      "source": [
        "import xml.etree.ElementTree as ET\n",
        "\n",
        "# Creating root element\n",
        "root = ET.Element(\"students\")\n",
        "\n",
        "# Adding a child\n",
        "student = ET.SubElement(root, \"student\")\n",
        "ET.SubElement(student, \"name\").text = \"Alice\"\n",
        "ET.SubElement(student, \"age\").text = \"25\"\n",
        "ET.SubElement(student, \"city\").text = \"New York\"\n",
        "\n",
        "# Create tree and write to file\n",
        "tree = ET.ElementTree(root)\n",
        "tree.write(\"students.xml\")\n"
      ],
      "metadata": {
        "id": "nY0oQEEOAgU_"
      },
      "execution_count": 7,
      "outputs": []
    },
    {
      "cell_type": "markdown",
      "source": [
        "#🔹 Reading from an .xml file"
      ],
      "metadata": {
        "id": "By-nYm9rAq_d"
      }
    },
    {
      "cell_type": "code",
      "source": [
        "import xml.etree.ElementTree as ET\n",
        "\n",
        "# Parse XML file\n",
        "tree = ET.parse(\"students.xml\")\n",
        "root = tree.getroot()\n",
        "\n",
        "# Iterate through XML data\n",
        "for student in root.findall('student'):\n",
        "    name = student.find('name').text\n",
        "    age = student.find('age').text\n",
        "    city = student.find('city').text\n",
        "    print(f\"Student: {name}, Age: {age}, City: {city}\")\n"
      ],
      "metadata": {
        "colab": {
          "base_uri": "https://localhost:8080/"
        },
        "id": "rGhcZW10ApTH",
        "outputId": "44970ee0-c00f-416a-a947-615a6cbbf62e"
      },
      "execution_count": 8,
      "outputs": [
        {
          "output_type": "stream",
          "name": "stdout",
          "text": [
            "Student: Alice, Age: 25, City: New York\n"
          ]
        }
      ]
    },
    {
      "cell_type": "markdown",
      "source": [
        "#✅ Summary Table\n",
        "\n",
        "| File Type | Read/Write Module | Use Cases                             |\n",
        "| --------- | ----------------- | ------------------------------------- |\n",
        "| `.txt`    | built-in `open()` | Simple logs, plain text notes         |\n",
        "| `.csv`    | `csv`             | Tabular data, spreadsheet-like files  |\n",
        "| `.json`   | `json`            | API data, config files, nested data   |\n",
        "| `.xml`    | `xml.etree`       | Structured document format (web/apps) |\n"
      ],
      "metadata": {
        "id": "nJToemL-AvOp"
      }
    },
    {
      "cell_type": "code",
      "source": [],
      "metadata": {
        "id": "lxps5EPAAsy3"
      },
      "execution_count": null,
      "outputs": []
    }
  ]
}