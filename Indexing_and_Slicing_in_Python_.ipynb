{
  "cells": [
    {
      "cell_type": "markdown",
      "metadata": {
        "id": "bAVQiFrA1yAB"
      },
      "source": [
        "# 🔍 Indexing and Slicing in Python\n",
        "\n",
        "This notebook covers:\n",
        "- Indexing and slicing on **lists**\n",
        "- Indexing and slicing on **tuples**\n",
        "- Indexing and slicing on **strings**\n",
        "\n",
        "Each section includes examples with detailed comments."
      ],
      "id": "bAVQiFrA1yAB"
    },
    {
      "cell_type": "markdown",
      "metadata": {
        "id": "OzG7y34a1yAD"
      },
      "source": [
        "## 📋 Lists: Indexing and Slicing"
      ],
      "id": "OzG7y34a1yAD"
    },
    {
      "cell_type": "code",
      "execution_count": 1,
      "metadata": {
        "id": "RiUkttVV1yAD"
      },
      "outputs": [],
      "source": [
        "# Define a list\n",
        "my_list = [10, 20, 30, 40, 50]"
      ],
      "id": "RiUkttVV1yAD"
    },
    {
      "cell_type": "code",
      "source": [
        "# Indexing (0-based)\n",
        "print(\"First element:\", my_list[0])   # 10\n",
        "print(\"Last element:\", my_list[-1])   # 50"
      ],
      "metadata": {
        "colab": {
          "base_uri": "https://localhost:8080/"
        },
        "id": "cr4_FIta11ft",
        "outputId": "fa3a97db-1186-48c1-d3af-0d89a4b4b93c"
      },
      "id": "cr4_FIta11ft",
      "execution_count": 2,
      "outputs": [
        {
          "output_type": "stream",
          "name": "stdout",
          "text": [
            "First element: 10\n",
            "Last element: 50\n"
          ]
        }
      ]
    },
    {
      "cell_type": "code",
      "source": [
        "# Slicing\n",
        "print(\"Elements from index 1 to 3 (not inclusive):\", my_list[1:4])  # [20, 30, 40]\n",
        "print(\"From start to index 2:\", my_list[:3])  # [10, 20, 30]\n",
        "print(\"From index 2 to end:\", my_list[2:])    # [30, 40, 50]\n",
        "print(\"Every second element:\", my_list[::2])  # [10, 30, 50]\n",
        "print(\"Reversed list:\", my_list[::-1])        # [50, 40, 30, 20, 10]"
      ],
      "metadata": {
        "colab": {
          "base_uri": "https://localhost:8080/"
        },
        "id": "Y_TAP5sq13n2",
        "outputId": "cdefef99-b3c8-4c69-a9e2-8b60c118cd30"
      },
      "id": "Y_TAP5sq13n2",
      "execution_count": 3,
      "outputs": [
        {
          "output_type": "stream",
          "name": "stdout",
          "text": [
            "Elements from index 1 to 3 (not inclusive): [20, 30, 40]\n",
            "From start to index 2: [10, 20, 30]\n",
            "From index 2 to end: [30, 40, 50]\n",
            "Every second element: [10, 30, 50]\n",
            "Reversed list: [50, 40, 30, 20, 10]\n"
          ]
        }
      ]
    },
    {
      "cell_type": "markdown",
      "metadata": {
        "id": "KABalYSI1yAE"
      },
      "source": [
        "## 🧱 Tuples: Indexing and Slicing"
      ],
      "id": "KABalYSI1yAE"
    },
    {
      "cell_type": "code",
      "execution_count": 4,
      "metadata": {
        "id": "SvjtpmUU1yAF"
      },
      "outputs": [],
      "source": [
        "# Define a tuple\n",
        "my_tuple = (\"a\", \"b\", \"c\", \"d\", \"e\")"
      ],
      "id": "SvjtpmUU1yAF"
    },
    {
      "cell_type": "code",
      "source": [
        "# Indexing\n",
        "print(\"Element at index 0:\", my_tuple[0])\n",
        "print(\"Element at index -2:\", my_tuple[-2])  # 'd'\n",
        "\n"
      ],
      "metadata": {
        "colab": {
          "base_uri": "https://localhost:8080/"
        },
        "id": "EEPsm02U15q2",
        "outputId": "97b3a78c-ccd0-476f-aa4f-6bfbc3a844d3"
      },
      "id": "EEPsm02U15q2",
      "execution_count": 5,
      "outputs": [
        {
          "output_type": "stream",
          "name": "stdout",
          "text": [
            "Element at index 0: a\n",
            "Element at index -2: d\n"
          ]
        }
      ]
    },
    {
      "cell_type": "code",
      "source": [
        "# Slicing\n",
        "print(\"Slice from index 1 to 3:\", my_tuple[1:4])\n",
        "print(\"Tuple reversed:\", my_tuple[::-1])"
      ],
      "metadata": {
        "colab": {
          "base_uri": "https://localhost:8080/"
        },
        "id": "iio5E3_517DZ",
        "outputId": "f11321c8-82f9-4f14-f8c6-fc2847ccdf3a"
      },
      "id": "iio5E3_517DZ",
      "execution_count": 6,
      "outputs": [
        {
          "output_type": "stream",
          "name": "stdout",
          "text": [
            "Slice from index 1 to 3: ('b', 'c', 'd')\n",
            "Tuple reversed: ('e', 'd', 'c', 'b', 'a')\n"
          ]
        }
      ]
    },
    {
      "cell_type": "markdown",
      "metadata": {
        "id": "dlbQgWpj1yAF"
      },
      "source": [
        "## 🧵 Strings: Indexing and Slicing"
      ],
      "id": "dlbQgWpj1yAF"
    },
    {
      "cell_type": "code",
      "execution_count": 10,
      "metadata": {
        "id": "S3623J7w1yAF"
      },
      "outputs": [],
      "source": [
        "# Define a string\n",
        "text = \"hello world\"\n",
        "\n"
      ],
      "id": "S3623J7w1yAF"
    },
    {
      "cell_type": "code",
      "source": [
        "# Indexing\n",
        "print(\"Character at index 0:\", text[0])\n",
        "print(\"Last character:\", text[-1])\n",
        "\n"
      ],
      "metadata": {
        "colab": {
          "base_uri": "https://localhost:8080/"
        },
        "id": "elqsur3219Dw",
        "outputId": "bf181d39-e22a-4098-fa35-0fb1987414ac"
      },
      "id": "elqsur3219Dw",
      "execution_count": 11,
      "outputs": [
        {
          "output_type": "stream",
          "name": "stdout",
          "text": [
            "Character at index 0: h\n",
            "Last character: d\n"
          ]
        }
      ]
    },
    {
      "cell_type": "code",
      "source": [
        "# Slicing\n",
        "print(\"First 6 characters:\", text[:6])   # 'Python'\n",
        "print(\"From 6 to end:\", text[6:])        # 'Programming'\n",
        "print(\"Every 2nd character:\", text[::2])\n",
        "print(\"Reversed string:\", text[::-1])"
      ],
      "metadata": {
        "colab": {
          "base_uri": "https://localhost:8080/"
        },
        "id": "1ggVtTZJ1-pu",
        "outputId": "f5c79cd7-0754-4d7a-c13c-0a749c96831b"
      },
      "id": "1ggVtTZJ1-pu",
      "execution_count": 12,
      "outputs": [
        {
          "output_type": "stream",
          "name": "stdout",
          "text": [
            "First 6 characters: hello \n",
            "From 6 to end: world\n",
            "Every 2nd character: hlowrd\n",
            "Reversed string: dlrow olleh\n"
          ]
        }
      ]
    },
    {
      "cell_type": "code",
      "source": [],
      "metadata": {
        "id": "yvGwgnIP2RSC"
      },
      "id": "yvGwgnIP2RSC",
      "execution_count": null,
      "outputs": []
    }
  ],
  "metadata": {
    "kernelspec": {
      "display_name": "Python 3",
      "language": "python",
      "name": "python3"
    },
    "language_info": {
      "name": "python",
      "version": ""
    },
    "colab": {
      "provenance": []
    }
  },
  "nbformat": 4,
  "nbformat_minor": 5
}