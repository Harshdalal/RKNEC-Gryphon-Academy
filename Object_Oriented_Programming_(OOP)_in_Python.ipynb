{
  "nbformat": 4,
  "nbformat_minor": 0,
  "metadata": {
    "colab": {
      "provenance": []
    },
    "kernelspec": {
      "name": "python3",
      "display_name": "Python 3"
    },
    "language_info": {
      "name": "python"
    }
  },
  "cells": [
    {
      "cell_type": "markdown",
      "source": [
        "#🧪 Object-Oriented Programming (OOP) in Python\n",
        "This practical includes:\n",
        "\n",
        "✅ Classes and Objects\n",
        "\n",
        "🔐 Encapsulation\n",
        "\n",
        "🔁 Inheritance\n",
        "\n",
        "🎭 Polymorphism"
      ],
      "metadata": {
        "id": "ySptWJ1s4Toc"
      }
    },
    {
      "cell_type": "markdown",
      "source": [
        "#✅ 1. CLASS AND OBJECT"
      ],
      "metadata": {
        "id": "_3UoPeY14YGi"
      }
    },
    {
      "cell_type": "code",
      "execution_count": 1,
      "metadata": {
        "colab": {
          "base_uri": "https://localhost:8080/"
        },
        "id": "eZvSIfw64EuM",
        "outputId": "c4a8532b-b081-439d-8354-6c4152842a1a"
      },
      "outputs": [
        {
          "output_type": "stream",
          "name": "stdout",
          "text": [
            "My name is Alice and I am 25 years old.\n",
            "My name is Bob and I am 30 years old.\n"
          ]
        }
      ],
      "source": [
        "# A class defines a blueprint for creating objects (instances).\n",
        "\n",
        "class Person:\n",
        "    # Constructor method: called automatically when an object is created\n",
        "    def __init__(self, name, age):\n",
        "        self.name = name  # attribute\n",
        "        self.age = age    # attribute\n",
        "\n",
        "    # Method (function inside class)\n",
        "    def introduce(self):\n",
        "        print(f\"My name is {self.name} and I am {self.age} years old.\")\n",
        "\n",
        "# Creating objects (instances)\n",
        "person1 = Person(\"Alice\", 25)\n",
        "person2 = Person(\"Bob\", 30)\n",
        "\n",
        "# Calling method\n",
        "person1.introduce()\n",
        "person2.introduce()\n"
      ]
    },
    {
      "cell_type": "markdown",
      "source": [
        "#🔐 2. ENCAPSULATION"
      ],
      "metadata": {
        "id": "xtTntdql4bVI"
      }
    },
    {
      "cell_type": "code",
      "source": [
        "# Encapsulation means restricting access to internal variables\n",
        "\n",
        "class BankAccount:\n",
        "    def __init__(self, owner, balance):\n",
        "        self.owner = owner\n",
        "        self.__balance = balance  # private attribute\n",
        "\n",
        "    def deposit(self, amount):\n",
        "        self.__balance += amount\n",
        "        print(f\"Deposited {amount}. New balance: {self.__balance}\")\n",
        "\n",
        "    def withdraw(self, amount):\n",
        "        if amount <= self.__balance:\n",
        "            self.__balance -= amount\n",
        "            print(f\"Withdrew {amount}. New balance: {self.__balance}\")\n",
        "        else:\n",
        "            print(\"Insufficient balance!\")\n",
        "\n",
        "    def get_balance(self):\n",
        "        return self.__balance\n",
        "\n",
        "# Create object\n",
        "account = BankAccount(\"John\", 1000)\n",
        "account.deposit(500)\n",
        "account.withdraw(200)\n",
        "\n",
        "# Access private variable using method\n",
        "print(\"Balance is:\", account.get_balance())\n",
        "\n",
        "# Trying to access __balance directly → not recommended\n",
        "# print(account.__balance)  # AttributeError\n"
      ],
      "metadata": {
        "colab": {
          "base_uri": "https://localhost:8080/"
        },
        "id": "thKejlrh4Zs5",
        "outputId": "1114c14d-c33b-4225-a1d6-f580cea7f221"
      },
      "execution_count": 2,
      "outputs": [
        {
          "output_type": "stream",
          "name": "stdout",
          "text": [
            "Deposited 500. New balance: 1500\n",
            "Withdrew 200. New balance: 1300\n",
            "Balance is: 1300\n"
          ]
        }
      ]
    },
    {
      "cell_type": "markdown",
      "source": [
        "#🔁 3. INHERITANCE"
      ],
      "metadata": {
        "id": "rigab2qW4f4O"
      }
    },
    {
      "cell_type": "code",
      "source": [
        "# Inheritance lets a child class use the methods and attributes of a parent class\n",
        "\n",
        "class Animal:\n",
        "    def speak(self):\n",
        "        print(\"Animal makes a sound\")\n",
        "\n",
        "# Dog inherits from Animal\n",
        "class Dog(Animal):\n",
        "    def speak(self):\n",
        "        print(\"Dog barks\")\n",
        "\n",
        "# Cat inherits from Animal\n",
        "class Cat(Animal):\n",
        "    def speak(self):\n",
        "        print(\"Cat meows\")\n",
        "\n",
        "# Create objects\n",
        "a = Animal()\n",
        "d = Dog()\n",
        "c = Cat()\n",
        "\n",
        "a.speak()\n",
        "d.speak()\n",
        "c.speak()\n"
      ],
      "metadata": {
        "colab": {
          "base_uri": "https://localhost:8080/"
        },
        "id": "E67ee4Lh4dCn",
        "outputId": "1321ae30-5a06-41f6-b97d-293da4fa25e5"
      },
      "execution_count": 3,
      "outputs": [
        {
          "output_type": "stream",
          "name": "stdout",
          "text": [
            "Animal makes a sound\n",
            "Dog barks\n",
            "Cat meows\n"
          ]
        }
      ]
    },
    {
      "cell_type": "markdown",
      "source": [
        "#🎭 4. POLYMORPHISM"
      ],
      "metadata": {
        "id": "pba6-D_d4jrx"
      }
    },
    {
      "cell_type": "code",
      "source": [
        "# Polymorphism allows different classes to implement the same method in different ways\n",
        "\n",
        "class Bird:\n",
        "    def fly(self):\n",
        "        print(\"Bird can fly\")\n",
        "\n",
        "class Airplane:\n",
        "    def fly(self):\n",
        "        print(\"Airplane is flying\")\n",
        "\n",
        "# Function that accepts any object with a fly() method\n",
        "def lets_fly(entity):\n",
        "    entity.fly()\n",
        "\n",
        "b = Bird()\n",
        "a = Airplane()\n",
        "\n",
        "lets_fly(b)\n",
        "lets_fly(a)\n"
      ],
      "metadata": {
        "colab": {
          "base_uri": "https://localhost:8080/"
        },
        "id": "mDtNyUSk4h9H",
        "outputId": "f2d032ce-1fe2-4c39-ee31-2ddcb30ef02b"
      },
      "execution_count": 4,
      "outputs": [
        {
          "output_type": "stream",
          "name": "stdout",
          "text": [
            "Bird can fly\n",
            "Airplane is flying\n"
          ]
        }
      ]
    },
    {
      "cell_type": "markdown",
      "source": [
        "#📦 5. COMBINATION EXAMPLE (ALL OOP CONCEPTS TOGETHER)"
      ],
      "metadata": {
        "id": "Q7nXFKfX4nY0"
      }
    },
    {
      "cell_type": "code",
      "source": [
        "class Vehicle:\n",
        "    def __init__(self, brand, model):\n",
        "        self.brand = brand\n",
        "        self.model = model\n",
        "\n",
        "    def display_info(self):\n",
        "        print(f\"Brand: {self.brand}, Model: {self.model}\")\n",
        "\n",
        "class Car(Vehicle):  # Inherits from Vehicle\n",
        "    def __init__(self, brand, model, fuel):\n",
        "        super().__init__(brand, model)  # Call parent constructor\n",
        "        self.__fuel = fuel  # Encapsulation (private attribute)\n",
        "\n",
        "    def display_info(self):  # Polymorphism\n",
        "        super().display_info()\n",
        "        print(f\"Fuel Type: {self.__fuel}\")\n",
        "\n",
        "car1 = Car(\"Toyota\", \"Innova\", \"Diesel\")\n",
        "car1.display_info()\n"
      ],
      "metadata": {
        "colab": {
          "base_uri": "https://localhost:8080/"
        },
        "id": "rKRaSg-q4liu",
        "outputId": "e157596f-c21d-48b3-88cb-8d180da01a3e"
      },
      "execution_count": 5,
      "outputs": [
        {
          "output_type": "stream",
          "name": "stdout",
          "text": [
            "Brand: Toyota, Model: Innova\n",
            "Fuel Type: Diesel\n"
          ]
        }
      ]
    },
    {
      "cell_type": "markdown",
      "source": [
        "#🔚 Summary Table\n",
        "\n",
        "| OOP Concept   | Description                           | Example              |\n",
        "| ------------- | ------------------------------------- | -------------------- |\n",
        "| Class         | Blueprint for objects                 | `class Person:`      |\n",
        "| Object        | Instance of class                     | `p = Person()`       |\n",
        "| Encapsulation | Hiding data using private variables   | `__balance`          |\n",
        "| Inheritance   | Child class gets properties of parent | `class Dog(Animal)`  |\n",
        "| Polymorphism  | Same method behaves differently       | `speak()` in Dog/Cat |\n"
      ],
      "metadata": {
        "id": "V97v19yY4q-y"
      }
    },
    {
      "cell_type": "code",
      "source": [],
      "metadata": {
        "id": "R0pP9Wnx4pKf"
      },
      "execution_count": null,
      "outputs": []
    }
  ]
}