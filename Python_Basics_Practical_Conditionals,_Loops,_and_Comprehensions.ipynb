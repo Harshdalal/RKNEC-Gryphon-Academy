{
  "nbformat": 4,
  "nbformat_minor": 0,
  "metadata": {
    "colab": {
      "provenance": []
    },
    "kernelspec": {
      "name": "python3",
      "display_name": "Python 3"
    },
    "language_info": {
      "name": "python"
    }
  },
  "cells": [
    {
      "cell_type": "markdown",
      "source": [
        "#Conditionals, Loops, and Comprehensions\n",
        "\n",
        "Conditionals (if, elif, else)\n",
        "\n",
        "Loops (for, while)\n",
        "\n",
        "Loop control (break, continue, pass)\n",
        "\n",
        "List comprehensions\n",
        "\n",
        "Dictionary comprehensions"
      ],
      "metadata": {
        "id": "rgHaCyqFz2-V"
      }
    },
    {
      "cell_type": "markdown",
      "source": [
        "#🧠 Python Basics Practical: Conditionals, Loops, and Comprehensions"
      ],
      "metadata": {
        "id": "ux2ELO-Nz8t7"
      }
    },
    {
      "cell_type": "code",
      "execution_count": 1,
      "metadata": {
        "colab": {
          "base_uri": "https://localhost:8080/"
        },
        "id": "7udfToiRz1pS",
        "outputId": "b6810980-693f-4bf5-fdcb-638ba35e36a4"
      },
      "outputs": [
        {
          "output_type": "stream",
          "name": "stdout",
          "text": [
            "You are eligible to vote.\n"
          ]
        }
      ],
      "source": [
        "# 🔰 1. CONDITIONAL STATEMENTS (if, elif, else)\n",
        "\n",
        "# Example: Decide if someone can vote\n",
        "age = 18\n",
        "\n",
        "if age >= 18:\n",
        "    print(\"You are eligible to vote.\")\n",
        "elif age > 0:\n",
        "    print(\"You are too young to vote.\")\n",
        "else:\n",
        "    print(\"Invalid age\")\n",
        "\n",
        "# Explanation:\n",
        "# - if: checks the first condition\n",
        "# - elif: runs if first is false, checks next condition\n",
        "# - else: fallback when nothing is true\n"
      ]
    },
    {
      "cell_type": "code",
      "source": [
        "# 🔰 2. FOR LOOP\n",
        "\n",
        "# Example: Print numbers from 1 to 5\n",
        "for i in range(1, 6):\n",
        "    print(\"Number:\", i)\n",
        "\n",
        "# range(start, stop): loops from start to stop-1\n"
      ],
      "metadata": {
        "colab": {
          "base_uri": "https://localhost:8080/"
        },
        "id": "Gk9F3_qbz-ib",
        "outputId": "f0fd3fda-1794-48e4-9589-5336a921be41"
      },
      "execution_count": 2,
      "outputs": [
        {
          "output_type": "stream",
          "name": "stdout",
          "text": [
            "Number: 1\n",
            "Number: 2\n",
            "Number: 3\n",
            "Number: 4\n",
            "Number: 5\n"
          ]
        }
      ]
    },
    {
      "cell_type": "code",
      "source": [
        "# Example: Loop through a list\n",
        "fruits = ['apple', 'banana', 'cherry']\n",
        "\n",
        "for fruit in fruits:\n",
        "    print(\"I like\", fruit)\n"
      ],
      "metadata": {
        "colab": {
          "base_uri": "https://localhost:8080/"
        },
        "id": "XPx8R0n60HdD",
        "outputId": "e1c64844-45bf-4e07-b011-7d25a8482127"
      },
      "execution_count": 3,
      "outputs": [
        {
          "output_type": "stream",
          "name": "stdout",
          "text": [
            "I like apple\n",
            "I like banana\n",
            "I like cherry\n"
          ]
        }
      ]
    },
    {
      "cell_type": "code",
      "source": [
        "# 🔰 3. WHILE LOOP\n",
        "\n",
        "# Example: Count down from 5 to 1\n",
        "count = 5\n",
        "while count > 0:\n",
        "    print(\"Countdown:\", count)\n",
        "    count -= 1  # subtract 1 from count\n"
      ],
      "metadata": {
        "colab": {
          "base_uri": "https://localhost:8080/"
        },
        "id": "c09yrXAN0JKT",
        "outputId": "995cd6b1-abec-4eae-969f-a08aa655e2bb"
      },
      "execution_count": 4,
      "outputs": [
        {
          "output_type": "stream",
          "name": "stdout",
          "text": [
            "Countdown: 5\n",
            "Countdown: 4\n",
            "Countdown: 3\n",
            "Countdown: 2\n",
            "Countdown: 1\n"
          ]
        }
      ]
    },
    {
      "cell_type": "code",
      "source": [
        "# 🔰 4. LOOP CONTROL STATEMENTS (break, continue, pass)\n",
        "\n",
        "# break: exit the loop\n",
        "for i in range(1, 10):\n",
        "    if i == 5:\n",
        "        break\n",
        "    print(\"Break loop at\", i)\n",
        "\n",
        "# continue: skip current iteration\n",
        "for i in range(1, 6):\n",
        "    if i == 3:\n",
        "        continue\n",
        "    print(\"Continue loop at\", i)\n",
        "\n",
        "# pass: do nothing (placeholder)\n",
        "for i in range(3):\n",
        "    pass  # can be used where syntax expects a block\n"
      ],
      "metadata": {
        "colab": {
          "base_uri": "https://localhost:8080/"
        },
        "id": "FF-CfuSf0W3a",
        "outputId": "901b39fe-c8d4-4a60-baa6-b267ffdec0bc"
      },
      "execution_count": 5,
      "outputs": [
        {
          "output_type": "stream",
          "name": "stdout",
          "text": [
            "Break loop at 1\n",
            "Break loop at 2\n",
            "Break loop at 3\n",
            "Break loop at 4\n",
            "Continue loop at 1\n",
            "Continue loop at 2\n",
            "Continue loop at 4\n",
            "Continue loop at 5\n"
          ]
        }
      ]
    },
    {
      "cell_type": "code",
      "source": [
        "# 🔰 5. LIST COMPREHENSIONS\n",
        "\n",
        "# Example: Get squares of numbers from 1 to 5\n",
        "squares = [x**2 for x in range(1, 6)]\n",
        "print(\"Squares:\", squares)\n",
        "\n",
        "# Same as:\n",
        "# squares = []\n",
        "# for x in range(1, 6):\n",
        "#     squares.append(x**2)\n"
      ],
      "metadata": {
        "colab": {
          "base_uri": "https://localhost:8080/"
        },
        "id": "WJNlmw900YMB",
        "outputId": "c4d20cf7-a7c5-49bc-ca99-5c05c431f979"
      },
      "execution_count": 6,
      "outputs": [
        {
          "output_type": "stream",
          "name": "stdout",
          "text": [
            "Squares: [1, 4, 9, 16, 25]\n"
          ]
        }
      ]
    },
    {
      "cell_type": "code",
      "source": [
        "# Example: Get even numbers from a list\n",
        "numbers = [1, 2, 3, 4, 5, 6]\n",
        "evens = [x for x in numbers if x % 2 == 0]\n",
        "print(\"Even numbers:\", evens)\n"
      ],
      "metadata": {
        "colab": {
          "base_uri": "https://localhost:8080/"
        },
        "id": "iA6oSkVP0Zuj",
        "outputId": "883ce34d-30b2-4aa4-a199-18cfd42f43c9"
      },
      "execution_count": 7,
      "outputs": [
        {
          "output_type": "stream",
          "name": "stdout",
          "text": [
            "Even numbers: [2, 4, 6]\n"
          ]
        }
      ]
    },
    {
      "cell_type": "code",
      "source": [
        "# 🔰 6. DICTIONARY COMPREHENSIONS\n",
        "\n",
        "# Example: Map numbers to their squares\n",
        "squares_dict = {x: x**2 for x in range(1, 6)}\n",
        "print(\"Squares Dictionary:\", squares_dict)\n"
      ],
      "metadata": {
        "colab": {
          "base_uri": "https://localhost:8080/"
        },
        "id": "30RSgYy50bza",
        "outputId": "80750b16-2add-43de-a1e1-73a65413e3a3"
      },
      "execution_count": 8,
      "outputs": [
        {
          "output_type": "stream",
          "name": "stdout",
          "text": [
            "Squares Dictionary: {1: 1, 2: 4, 3: 9, 4: 16, 5: 25}\n"
          ]
        }
      ]
    },
    {
      "cell_type": "code",
      "source": [
        "# Example: Convert lowercase words to uppercase\n",
        "words = ['python', 'data', 'code']\n",
        "upper_words = {word: word.upper() for word in words}\n",
        "print(\"Uppercase Dictionary:\", upper_words)\n"
      ],
      "metadata": {
        "colab": {
          "base_uri": "https://localhost:8080/"
        },
        "id": "nHgjeiTF0dgT",
        "outputId": "6f5b1c3c-6e53-424f-a0d6-aa60e7ada355"
      },
      "execution_count": 9,
      "outputs": [
        {
          "output_type": "stream",
          "name": "stdout",
          "text": [
            "Uppercase Dictionary: {'python': 'PYTHON', 'data': 'DATA', 'code': 'CODE'}\n"
          ]
        }
      ]
    },
    {
      "cell_type": "code",
      "source": [],
      "metadata": {
        "id": "kCSKjKWe0eha"
      },
      "execution_count": null,
      "outputs": []
    }
  ]
}