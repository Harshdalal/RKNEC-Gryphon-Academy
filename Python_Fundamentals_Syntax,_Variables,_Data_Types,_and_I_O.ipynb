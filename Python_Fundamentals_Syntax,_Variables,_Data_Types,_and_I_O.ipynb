{
  "cells": [
    {
      "cell_type": "markdown",
      "metadata": {
        "id": "680XvSu90Vb8"
      },
      "source": [
        "# 🐍 Python Fundamentals: Syntax, Variables, Data Types, and I/O\n",
        "Welcome to this Python practical! In this notebook, you'll learn:\n",
        "- Python syntax basics\n",
        "- How to declare and use variables\n",
        "- Data types (strings, integers, floats, booleans, lists, dictionaries)\n",
        "- Basic input/output (I/O) operations"
      ],
      "id": "680XvSu90Vb8"
    },
    {
      "cell_type": "markdown",
      "metadata": {
        "id": "pGc3P0-r0VcA"
      },
      "source": [
        "## ✍️ Python Syntax Basics"
      ],
      "id": "pGc3P0-r0VcA"
    },
    {
      "cell_type": "code",
      "execution_count": 1,
      "metadata": {
        "colab": {
          "base_uri": "https://localhost:8080/"
        },
        "id": "fLvGVrfS0VcB",
        "outputId": "d3ba4875-602f-4671-eb50-d6c531b1b89e"
      },
      "outputs": [
        {
          "output_type": "stream",
          "name": "stdout",
          "text": [
            "Hello, Python!\n",
            "This is indented correctly.\n"
          ]
        }
      ],
      "source": [
        "# A simple Python statement\n",
        "print(\"Hello, Python!\")  # This is a comment\n",
        "\n",
        "# Indentation defines blocks\n",
        "if True:\n",
        "    print(\"This is indented correctly.\")\n",
        "else:\n",
        "    print(\"This won't run.\")  # Not executed"
      ],
      "id": "fLvGVrfS0VcB"
    },
    {
      "cell_type": "markdown",
      "metadata": {
        "id": "_wNkMmCM0VcD"
      },
      "source": [
        "## 📦 Variables"
      ],
      "id": "_wNkMmCM0VcD"
    },
    {
      "cell_type": "code",
      "execution_count": 2,
      "metadata": {
        "colab": {
          "base_uri": "https://localhost:8080/"
        },
        "id": "fcsLh2Rz0VcD",
        "outputId": "359d69e9-06a8-440a-f084-aed37949f249"
      },
      "outputs": [
        {
          "output_type": "stream",
          "name": "stdout",
          "text": [
            "Name: Alice\n",
            "Age: 25\n",
            "Height: 5.6\n",
            "New value of name: 123\n"
          ]
        }
      ],
      "source": [
        "# Assign values to variables\n",
        "name = \"Alice\"\n",
        "age = 25\n",
        "height = 5.6\n",
        "\n",
        "# Print values\n",
        "print(\"Name:\", name)\n",
        "print(\"Age:\", age)\n",
        "print(\"Height:\", height)\n",
        "\n",
        "# Variables are dynamically typed\n",
        "name = 123  # Now 'name' holds an integer\n",
        "print(\"New value of name:\", name)"
      ],
      "id": "fcsLh2Rz0VcD"
    },
    {
      "cell_type": "markdown",
      "metadata": {
        "id": "qK8RY52U0VcD"
      },
      "source": [
        "## 🔢 Data Types"
      ],
      "id": "qK8RY52U0VcD"
    },
    {
      "cell_type": "code",
      "execution_count": 7,
      "metadata": {
        "colab": {
          "base_uri": "https://localhost:8080/"
        },
        "id": "2Ir8goi50VcE",
        "outputId": "d07fd5e3-1ba2-4749-e310-ba7adf319be2"
      },
      "outputs": [
        {
          "output_type": "stream",
          "name": "stdout",
          "text": [
            "<class 'int'>\n"
          ]
        }
      ],
      "source": [
        "# Integer\n",
        "a = 10\n",
        "print(type(a))\n",
        "\n"
      ],
      "id": "2Ir8goi50VcE"
    },
    {
      "cell_type": "code",
      "source": [
        "# Float\n",
        "b = 3.14\n",
        "print(type(b))\n",
        "\n"
      ],
      "metadata": {
        "colab": {
          "base_uri": "https://localhost:8080/"
        },
        "id": "PPxxL7aH03LL",
        "outputId": "6b1478cc-146b-43a7-8d61-8db132c960df"
      },
      "id": "PPxxL7aH03LL",
      "execution_count": 8,
      "outputs": [
        {
          "output_type": "stream",
          "name": "stdout",
          "text": [
            "<class 'float'>\n"
          ]
        }
      ]
    },
    {
      "cell_type": "code",
      "source": [
        "# String\n",
        "c = \"Python\"\n",
        "print(type(c))\n",
        "\n",
        "# Boolean\n",
        "d = True\n",
        "print(type(d))\n",
        "\n",
        "# List\n",
        "e = [1, 2, 3, \"four\"]\n",
        "print(type(e), e)\n",
        "\n",
        "# Dictionary\n",
        "f = {\"name\": \"Alice\", \"age\": 25}\n",
        "print(type(f), f)"
      ],
      "metadata": {
        "colab": {
          "base_uri": "https://localhost:8080/"
        },
        "id": "FPk7rL0o05JO",
        "outputId": "00fba23e-33c2-403f-ca87-4672741b15bc"
      },
      "id": "FPk7rL0o05JO",
      "execution_count": 9,
      "outputs": [
        {
          "output_type": "stream",
          "name": "stdout",
          "text": [
            "<class 'str'>\n",
            "<class 'bool'>\n",
            "<class 'list'> [1, 2, 3, 'four']\n",
            "<class 'dict'> {'name': 'Alice', 'age': 25}\n"
          ]
        }
      ]
    },
    {
      "cell_type": "markdown",
      "metadata": {
        "id": "wawdusKj0VcE"
      },
      "source": [
        "## 🖊️ Input and Output Operations"
      ],
      "id": "wawdusKj0VcE"
    },
    {
      "cell_type": "code",
      "execution_count": 4,
      "metadata": {
        "colab": {
          "base_uri": "https://localhost:8080/"
        },
        "id": "7pQkq74P0VcF",
        "outputId": "60138b45-9e1b-44b1-f2e1-26ed63d81010"
      },
      "outputs": [
        {
          "output_type": "stream",
          "name": "stdout",
          "text": [
            "Welcome to Python I/O!\n"
          ]
        }
      ],
      "source": [
        "# Output using print\n",
        "print(\"Welcome to Python I/O!\")\n"
      ],
      "id": "7pQkq74P0VcF"
    },
    {
      "cell_type": "code",
      "source": [
        "# Input from user (uncomment to test in interactive mode)\n",
        "user_name = input(\"Enter your name: \")\n",
        "print(\"Hello,\", user_name)"
      ],
      "metadata": {
        "colab": {
          "base_uri": "https://localhost:8080/"
        },
        "id": "ht8TuIZw0fup",
        "outputId": "99171855-27a3-45cc-c06f-003c649c97c6"
      },
      "id": "ht8TuIZw0fup",
      "execution_count": 5,
      "outputs": [
        {
          "output_type": "stream",
          "name": "stdout",
          "text": [
            "Enter your name: harsh\n",
            "Hello, harsh\n"
          ]
        }
      ]
    },
    {
      "cell_type": "code",
      "source": [
        "# Type casting input (interactive mode only)\n",
        "user_age = int(input(\"Enter your age: \"))\n",
        "print(\"You will be\", user_age + 1, \"next year.\")"
      ],
      "metadata": {
        "colab": {
          "base_uri": "https://localhost:8080/"
        },
        "id": "NSxydKak0lEB",
        "outputId": "bde7073d-5a74-4b11-d579-4b1a58c1e4c0"
      },
      "id": "NSxydKak0lEB",
      "execution_count": 6,
      "outputs": [
        {
          "output_type": "stream",
          "name": "stdout",
          "text": [
            "Enter your age: 23\n",
            "You will be 24 next year.\n"
          ]
        }
      ]
    },
    {
      "cell_type": "code",
      "source": [],
      "metadata": {
        "id": "9FWqTDbT0o1Q"
      },
      "id": "9FWqTDbT0o1Q",
      "execution_count": null,
      "outputs": []
    }
  ],
  "metadata": {
    "kernelspec": {
      "display_name": "Python 3",
      "language": "python",
      "name": "python3"
    },
    "language_info": {
      "name": "python",
      "version": ""
    },
    "colab": {
      "provenance": []
    }
  },
  "nbformat": 4,
  "nbformat_minor": 5
}