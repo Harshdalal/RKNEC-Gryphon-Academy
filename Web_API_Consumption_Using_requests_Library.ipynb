{
  "nbformat": 4,
  "nbformat_minor": 0,
  "metadata": {
    "colab": {
      "provenance": []
    },
    "kernelspec": {
      "name": "python3",
      "display_name": "Python 3"
    },
    "language_info": {
      "name": "python"
    }
  },
  "cells": [
    {
      "cell_type": "markdown",
      "source": [
        "#🧪 Web API Consumption Using requests Library\n",
        "This practical covers:\n",
        "\n",
        "✅ What is a Web API?\n",
        "\n",
        "📥 Making GET and POST requests\n",
        "\n",
        "🔐 Adding headers and authentication\n",
        "\n",
        "🧾 Handling JSON response data\n",
        "\n",
        "⚠️ Error handling with requests"
      ],
      "metadata": {
        "id": "vf4NyOywD60H"
      }
    },
    {
      "cell_type": "markdown",
      "source": [
        "🔹 Prerequisite: Install requests (if not already installed)"
      ],
      "metadata": {
        "id": "Ylz2UJieD90c"
      }
    },
    {
      "cell_type": "code",
      "source": [
        "pip install requests\n"
      ],
      "metadata": {
        "colab": {
          "base_uri": "https://localhost:8080/"
        },
        "id": "luSBLAFbDSjP",
        "outputId": "0e6ac2da-eaff-403b-861b-22d84f9e9b1b"
      },
      "execution_count": 1,
      "outputs": [
        {
          "output_type": "stream",
          "name": "stdout",
          "text": [
            "Requirement already satisfied: requests in /usr/local/lib/python3.11/dist-packages (2.32.3)\n",
            "Requirement already satisfied: charset-normalizer<4,>=2 in /usr/local/lib/python3.11/dist-packages (from requests) (3.4.2)\n",
            "Requirement already satisfied: idna<4,>=2.5 in /usr/local/lib/python3.11/dist-packages (from requests) (3.10)\n",
            "Requirement already satisfied: urllib3<3,>=1.21.1 in /usr/local/lib/python3.11/dist-packages (from requests) (2.4.0)\n",
            "Requirement already satisfied: certifi>=2017.4.17 in /usr/local/lib/python3.11/dist-packages (from requests) (2025.4.26)\n"
          ]
        }
      ]
    },
    {
      "cell_type": "markdown",
      "source": [
        "#✅ 1. What is a Web API?\n",
        "An API (Application Programming Interface) allows you to interact with web services using code (e.g., get weather, user data, etc.).\n",
        "\n",
        "#🌐 2. Making a Simple GET Request"
      ],
      "metadata": {
        "id": "RWA5JoD6D_5Q"
      }
    },
    {
      "cell_type": "code",
      "source": [
        "import requests\n",
        "\n",
        "# Make a GET request to a public API (JSONPlaceholder)\n",
        "response = requests.get(\"https://jsonplaceholder.typicode.com/posts/1\")\n",
        "\n",
        "# Check status code\n",
        "print(\"Status Code:\", response.status_code)\n",
        "\n",
        "# Access JSON content\n",
        "data = response.json()\n",
        "print(\"Post Title:\", data['title'])\n"
      ],
      "metadata": {
        "colab": {
          "base_uri": "https://localhost:8080/"
        },
        "id": "oZVOanRcDTKf",
        "outputId": "1ff7bdc5-0978-42b0-ca7a-e3aafaba6620"
      },
      "execution_count": 2,
      "outputs": [
        {
          "output_type": "stream",
          "name": "stdout",
          "text": [
            "Status Code: 200\n",
            "Post Title: sunt aut facere repellat provident occaecati excepturi optio reprehenderit\n"
          ]
        }
      ]
    },
    {
      "cell_type": "markdown",
      "source": [
        "#📬 3. Making a POST Request"
      ],
      "metadata": {
        "id": "qW8RoaCAEDs4"
      }
    },
    {
      "cell_type": "code",
      "source": [
        "# POST data to create a new post\n",
        "payload = {\n",
        "    \"title\": \"My New Post\",\n",
        "    \"body\": \"Learning APIs with requests\",\n",
        "    \"userId\": 1\n",
        "}\n",
        "\n",
        "response = requests.post(\"https://jsonplaceholder.typicode.com/posts\", json=payload)\n",
        "\n",
        "print(\"Status Code:\", response.status_code)\n",
        "print(\"Response JSON:\", response.json())\n"
      ],
      "metadata": {
        "colab": {
          "base_uri": "https://localhost:8080/"
        },
        "id": "mHR6RCr4DoCl",
        "outputId": "8b0c9120-8408-4387-8a39-08966d8f6013"
      },
      "execution_count": 3,
      "outputs": [
        {
          "output_type": "stream",
          "name": "stdout",
          "text": [
            "Status Code: 201\n",
            "Response JSON: {'title': 'My New Post', 'body': 'Learning APIs with requests', 'userId': 1, 'id': 101}\n"
          ]
        }
      ]
    },
    {
      "cell_type": "markdown",
      "source": [
        "#🧾 4. Using Headers and Query Parameters"
      ],
      "metadata": {
        "id": "14yw4loPEGRp"
      }
    },
    {
      "cell_type": "code",
      "source": [
        "# Example: Using query params and headers in a GET request\n",
        "\n",
        "url = \"https://jsonplaceholder.typicode.com/comments\"\n",
        "params = {\"postId\": 1}\n",
        "headers = {\n",
        "    \"Accept\": \"application/json\"\n",
        "}\n",
        "\n",
        "response = requests.get(url, params=params, headers=headers)\n",
        "print(\"First Comment:\", response.json()[0])\n"
      ],
      "metadata": {
        "colab": {
          "base_uri": "https://localhost:8080/"
        },
        "id": "42PCRe5dDpQk",
        "outputId": "bdcdb85d-ad83-4d12-9488-1395857d5c0d"
      },
      "execution_count": 4,
      "outputs": [
        {
          "output_type": "stream",
          "name": "stdout",
          "text": [
            "First Comment: {'postId': 1, 'id': 1, 'name': 'id labore ex et quam laborum', 'email': 'Eliseo@gardner.biz', 'body': 'laudantium enim quasi est quidem magnam voluptate ipsam eos\\ntempora quo necessitatibus\\ndolor quam autem quasi\\nreiciendis et nam sapiente accusantium'}\n"
          ]
        }
      ]
    },
    {
      "cell_type": "markdown",
      "source": [
        "#🔐 5. Authentication Example (Basic Auth)"
      ],
      "metadata": {
        "id": "u7iG6JiTEIi-"
      }
    },
    {
      "cell_type": "code",
      "source": [
        "# Many APIs require authentication\n",
        "from requests.auth import HTTPBasicAuth\n",
        "\n",
        "# Example with HTTP Basic Authentication (demo)\n",
        "# Note: Replace URL with actual API that supports auth if needed\n",
        "\n",
        "auth_url = \"https://httpbin.org/basic-auth/user/passwd\"\n",
        "response = requests.get(auth_url, auth=HTTPBasicAuth('user', 'passwd'))\n",
        "\n",
        "if response.status_code == 200:\n",
        "    print(\"Authenticated successfully!\")\n",
        "    print(response.json())\n",
        "else:\n",
        "    print(\"Authentication failed with code:\", response.status_code)\n"
      ],
      "metadata": {
        "colab": {
          "base_uri": "https://localhost:8080/"
        },
        "id": "r4_Fz9-iDq_N",
        "outputId": "f8f6bba2-3aee-4576-a9e6-397328e5aa0b"
      },
      "execution_count": 5,
      "outputs": [
        {
          "output_type": "stream",
          "name": "stdout",
          "text": [
            "Authenticated successfully!\n",
            "{'authenticated': True, 'user': 'user'}\n"
          ]
        }
      ]
    },
    {
      "cell_type": "markdown",
      "source": [
        "#⚠️ 6. Handling Errors and Timeouts"
      ],
      "metadata": {
        "id": "Os1BulE7EK3m"
      }
    },
    {
      "cell_type": "code",
      "source": [
        "try:\n",
        "    # Force a bad request\n",
        "    bad_response = requests.get(\"https://jsonplaceholder.typicode.com/invalid-url\", timeout=5)\n",
        "    bad_response.raise_for_status()  # Raise error if not 200\n",
        "except requests.exceptions.HTTPError as err:\n",
        "    print(\"HTTP error occurred:\", err)\n",
        "except requests.exceptions.Timeout:\n",
        "    print(\"Request timed out.\")\n",
        "except requests.exceptions.RequestException as e:\n",
        "    print(\"Some error occurred:\", e)\n"
      ],
      "metadata": {
        "colab": {
          "base_uri": "https://localhost:8080/"
        },
        "id": "X7Pds8gGDwWM",
        "outputId": "571bd6b8-7b05-4f3c-c53e-efbe4bc8f5bc"
      },
      "execution_count": 6,
      "outputs": [
        {
          "output_type": "stream",
          "name": "stdout",
          "text": [
            "HTTP error occurred: 404 Client Error: Not Found for url: https://jsonplaceholder.typicode.com/invalid-url\n"
          ]
        }
      ]
    },
    {
      "cell_type": "markdown",
      "source": [
        "#✅ Summary\n",
        "\n",
        "| Feature        | Method/Usage                              |\n",
        "| -------------- | ----------------------------------------- |\n",
        "| `GET` request  | `requests.get(url)`                       |\n",
        "| `POST` request | `requests.post(url, json=payload)`        |\n",
        "| Query Params   | `params={\"key\": \"value\"}`                 |\n",
        "| Headers        | `headers={\"Authorization\": \"Bearer xyz\"}` |\n",
        "| Basic Auth     | `auth=HTTPBasicAuth(\"user\", \"pass\")`      |\n",
        "| JSON response  | `.json()`                                 |\n",
        "| Error handling | `.raise_for_status()` and `try...except`  |\n"
      ],
      "metadata": {
        "id": "9cRBZL0yENli"
      }
    }
  ]
}