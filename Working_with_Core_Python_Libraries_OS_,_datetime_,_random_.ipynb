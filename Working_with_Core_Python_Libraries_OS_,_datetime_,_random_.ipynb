{
  "nbformat": 4,
  "nbformat_minor": 0,
  "metadata": {
    "colab": {
      "provenance": []
    },
    "kernelspec": {
      "name": "python3",
      "display_name": "Python 3"
    },
    "language_info": {
      "name": "python"
    }
  },
  "cells": [
    {
      "cell_type": "markdown",
      "source": [
        "#Working with Core Python Libraries\n",
        "\n",
        "We will explore:\n",
        "\n",
        "📁 os – interacting with the operating system\n",
        "\n",
        "📆 datetime – working with dates and times\n",
        "\n",
        "🎲 random – generating random numbers and choices\n",
        "\n",
        "📦 collections – specialized container datatypes"
      ],
      "metadata": {
        "id": "9BnMDs3oBpvt"
      }
    },
    {
      "cell_type": "markdown",
      "source": [
        "#📁 1. os – Operating System Interface"
      ],
      "metadata": {
        "id": "DzLANgR1BxhQ"
      }
    },
    {
      "cell_type": "code",
      "execution_count": 1,
      "metadata": {
        "colab": {
          "base_uri": "https://localhost:8080/"
        },
        "id": "kLeV0qKYBLZn",
        "outputId": "9fb7bc43-311c-4d37-fa50-26c47d58c7ac"
      },
      "outputs": [
        {
          "output_type": "stream",
          "name": "stdout",
          "text": [
            "Current Directory: /content\n",
            "Files and Folders: ['.config', 'sample_data']\n"
          ]
        }
      ],
      "source": [
        "import os\n",
        "\n",
        "# Get current working directory\n",
        "print(\"Current Directory:\", os.getcwd())\n",
        "\n",
        "# List files and directories in current directory\n",
        "print(\"Files and Folders:\", os.listdir())\n",
        "\n",
        "# Create a new folder\n",
        "os.mkdir(\"demo_folder\")  # Creates folder named 'demo_folder'\n",
        "\n",
        "# Rename a folder\n",
        "os.rename(\"demo_folder\", \"renamed_folder\")\n",
        "\n",
        "# Remove a folder (make sure it's empty)\n",
        "os.rmdir(\"renamed_folder\")\n"
      ]
    },
    {
      "cell_type": "markdown",
      "source": [
        "#📆 2. datetime – Date and Time Handling"
      ],
      "metadata": {
        "id": "wLJiK5pAB1dX"
      }
    },
    {
      "cell_type": "code",
      "source": [
        "from datetime import datetime, date, timedelta\n",
        "\n",
        "# Current date and time\n",
        "now = datetime.now()\n",
        "print(\"Now:\", now)\n",
        "\n",
        "# Only today's date\n",
        "today = date.today()\n",
        "print(\"Today's Date:\", today)\n",
        "\n",
        "# Create a specific date\n",
        "dob = date(2000, 1, 1)\n",
        "print(\"DOB:\", dob)\n",
        "\n",
        "# Date arithmetic\n",
        "yesterday = today - timedelta(days=1)\n",
        "tomorrow = today + timedelta(days=1)\n",
        "\n",
        "print(\"Yesterday:\", yesterday)\n",
        "print(\"Tomorrow:\", tomorrow)\n",
        "\n",
        "# Format date to string\n",
        "formatted = now.strftime(\"%d-%m-%Y %H:%M:%S\")\n",
        "print(\"Formatted DateTime:\", formatted)\n"
      ],
      "metadata": {
        "colab": {
          "base_uri": "https://localhost:8080/"
        },
        "id": "DOZtLARCBzkZ",
        "outputId": "cc4e4bdf-1674-4e4e-ac2b-89ab6d8b3fb1"
      },
      "execution_count": 2,
      "outputs": [
        {
          "output_type": "stream",
          "name": "stdout",
          "text": [
            "Now: 2025-06-12 07:25:24.516320\n",
            "Today's Date: 2025-06-12\n",
            "DOB: 2000-01-01\n",
            "Yesterday: 2025-06-11\n",
            "Tomorrow: 2025-06-13\n",
            "Formatted DateTime: 12-06-2025 07:25:24\n"
          ]
        }
      ]
    },
    {
      "cell_type": "markdown",
      "source": [
        "#🎲 3. random – Random Numbers & Choices"
      ],
      "metadata": {
        "id": "aPqJPmc2B7Ka"
      }
    },
    {
      "cell_type": "code",
      "source": [
        "import random\n",
        "\n",
        "# Generate random integer between 1 and 100\n",
        "print(\"Random Int:\", random.randint(1, 100))\n",
        "\n",
        "# Generate random float between 0 and 1\n",
        "print(\"Random Float:\", random.random())\n",
        "\n",
        "# Choose a random item from a list\n",
        "colors = ['red', 'green', 'blue']\n",
        "print(\"Random Color:\", random.choice(colors))\n",
        "\n",
        "# Shuffle a list\n",
        "random.shuffle(colors)\n",
        "print(\"Shuffled List:\", colors)\n",
        "\n",
        "# Generate a random sample of multiple items\n",
        "print(\"Sample:\", random.sample(range(1, 50), 5))\n"
      ],
      "metadata": {
        "colab": {
          "base_uri": "https://localhost:8080/"
        },
        "id": "sSlWVqjOB3uu",
        "outputId": "45dea74d-218e-4ff7-ad68-14ada69097dc"
      },
      "execution_count": 3,
      "outputs": [
        {
          "output_type": "stream",
          "name": "stdout",
          "text": [
            "Random Int: 36\n",
            "Random Float: 0.4053811791544992\n",
            "Random Color: blue\n",
            "Shuffled List: ['green', 'blue', 'red']\n",
            "Sample: [35, 19, 5, 4, 36]\n"
          ]
        }
      ]
    },
    {
      "cell_type": "markdown",
      "source": [
        "#📦 4. collections – Specialized Containers\n",
        "🔹 A. Counter"
      ],
      "metadata": {
        "id": "d-AX3-OOB_S9"
      }
    },
    {
      "cell_type": "code",
      "source": [
        "from collections import Counter\n",
        "\n",
        "# Count occurrences of elements in a list\n",
        "fruits = ['apple', 'banana', 'apple', 'orange', 'banana', 'apple']\n",
        "count = Counter(fruits)\n",
        "print(\"Fruit Count:\", count)\n"
      ],
      "metadata": {
        "colab": {
          "base_uri": "https://localhost:8080/"
        },
        "id": "Uj2qzaw4B9Sm",
        "outputId": "bd4a32e0-beb3-4b51-a89d-5076bbeecb6c"
      },
      "execution_count": 4,
      "outputs": [
        {
          "output_type": "stream",
          "name": "stdout",
          "text": [
            "Fruit Count: Counter({'apple': 3, 'banana': 2, 'orange': 1})\n"
          ]
        }
      ]
    },
    {
      "cell_type": "markdown",
      "source": [
        "🔹 B. defaultdict"
      ],
      "metadata": {
        "id": "1b03uGFFCDpo"
      }
    },
    {
      "cell_type": "code",
      "source": [
        "from collections import defaultdict\n",
        "\n",
        "# Returns a default value for missing keys\n",
        "marks = defaultdict(lambda: 0)\n",
        "marks['Math'] = 90\n",
        "marks['Science'] = 80\n",
        "print(\"English Marks (not set):\", marks['English'])  # Returns 0\n"
      ],
      "metadata": {
        "colab": {
          "base_uri": "https://localhost:8080/"
        },
        "id": "7Xp4gyZFCBpG",
        "outputId": "57c43e37-a0f9-475e-895a-e2ab81fe477f"
      },
      "execution_count": 5,
      "outputs": [
        {
          "output_type": "stream",
          "name": "stdout",
          "text": [
            "English Marks (not set): 0\n"
          ]
        }
      ]
    },
    {
      "cell_type": "markdown",
      "source": [
        "🔹 C. namedtuple"
      ],
      "metadata": {
        "id": "MDjolTPiCHpk"
      }
    },
    {
      "cell_type": "code",
      "source": [
        "from collections import namedtuple\n",
        "\n",
        "# Create a Point object with x and y\n",
        "Point = namedtuple('Point', 'x y')\n",
        "p1 = Point(10, 20)\n",
        "print(\"Point:\", p1)\n",
        "print(\"x:\", p1.x, \"y:\", p1.y)\n"
      ],
      "metadata": {
        "colab": {
          "base_uri": "https://localhost:8080/"
        },
        "id": "TdYGxZDyCFjW",
        "outputId": "1163b23d-f73f-4505-86c2-45f5dd40b7e3"
      },
      "execution_count": 6,
      "outputs": [
        {
          "output_type": "stream",
          "name": "stdout",
          "text": [
            "Point: Point(x=10, y=20)\n",
            "x: 10 y: 20\n"
          ]
        }
      ]
    },
    {
      "cell_type": "markdown",
      "source": [
        "🔹 D. deque"
      ],
      "metadata": {
        "id": "-M69Ak-oCMI4"
      }
    },
    {
      "cell_type": "code",
      "source": [
        "from collections import deque\n",
        "\n",
        "# Double-ended queue\n",
        "dq = deque([1, 2, 3])\n",
        "dq.append(4)        # Add to right\n",
        "dq.appendleft(0)    # Add to left\n",
        "dq.pop()            # Remove from right\n",
        "dq.popleft()        # Remove from left\n",
        "print(\"Deque after operations:\", dq)\n"
      ],
      "metadata": {
        "colab": {
          "base_uri": "https://localhost:8080/"
        },
        "id": "G4SYigttCJ92",
        "outputId": "bcdebd0f-cd75-418c-b29a-bc44861f2183"
      },
      "execution_count": 7,
      "outputs": [
        {
          "output_type": "stream",
          "name": "stdout",
          "text": [
            "Deque after operations: deque([1, 2, 3])\n"
          ]
        }
      ]
    },
    {
      "cell_type": "markdown",
      "source": [
        "#✅ Summary Table\n",
        "\n",
        "| Library       | Purpose                                  | Example Function               |\n",
        "| ------------- | ---------------------------------------- | ------------------------------ |\n",
        "| `os`          | File/directory operations                | `os.mkdir()`, `os.listdir()`   |\n",
        "| `datetime`    | Date and time manipulation               | `datetime.now()`, `timedelta`  |\n",
        "| `random`      | Random generation                        | `random.choice()`, `shuffle()` |\n",
        "| `collections` | Advanced containers (`Counter`, `deque`) | `Counter()`, `defaultdict()`   |\n"
      ],
      "metadata": {
        "id": "APEjK8USCPzG"
      }
    },
    {
      "cell_type": "code",
      "source": [],
      "metadata": {
        "id": "DYrg_okXCNtO"
      },
      "execution_count": null,
      "outputs": []
    }
  ]
}