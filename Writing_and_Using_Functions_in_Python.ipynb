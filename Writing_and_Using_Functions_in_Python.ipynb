{
  "nbformat": 4,
  "nbformat_minor": 0,
  "metadata": {
    "colab": {
      "provenance": []
    },
    "kernelspec": {
      "name": "python3",
      "display_name": "Python 3"
    },
    "language_info": {
      "name": "python"
    }
  },
  "cells": [
    {
      "cell_type": "markdown",
      "source": [
        "#✅ Writing and Using Functions in Python\n",
        "\n",
        "\n",
        "Defining and calling functions\n",
        "\n",
        "Positional and default arguments\n",
        "\n",
        "*args (variable arguments)\n",
        "\n",
        "**kwargs (keyword arguments)\n",
        "\n"
      ],
      "metadata": {
        "id": "cnhFx5Ea2yqC"
      }
    },
    {
      "cell_type": "code",
      "execution_count": 1,
      "metadata": {
        "colab": {
          "base_uri": "https://localhost:8080/"
        },
        "id": "I7fow5QE2v6k",
        "outputId": "c7d34acf-f0b0-4ea2-fd01-4a44fd78d3ea"
      },
      "outputs": [
        {
          "output_type": "stream",
          "name": "stdout",
          "text": [
            "Hello! Welcome to Python Functions.\n"
          ]
        }
      ],
      "source": [
        "# 🔹 1. DEFINING A BASIC FUNCTION\n",
        "\n",
        "# A function is a block of code that performs a task and can be reused.\n",
        "\n",
        "def greet():\n",
        "    print(\"Hello! Welcome to Python Functions.\")\n",
        "\n",
        "# Calling the function\n",
        "greet()\n"
      ]
    },
    {
      "cell_type": "code",
      "source": [
        "# 🔹 2. FUNCTION WITH PARAMETERS\n",
        "\n",
        "def greet_user(name):\n",
        "    print(f\"Hello, {name}!\")\n",
        "\n",
        "greet_user(\"Alice\")\n",
        "greet_user(\"Bob\")  # You can reuse the function with different arguments\n"
      ],
      "metadata": {
        "colab": {
          "base_uri": "https://localhost:8080/"
        },
        "id": "X_oyiNWk244D",
        "outputId": "af37f56e-2232-4411-c566-cb1e2b4fec6e"
      },
      "execution_count": 2,
      "outputs": [
        {
          "output_type": "stream",
          "name": "stdout",
          "text": [
            "Hello, Alice!\n",
            "Hello, Bob!\n"
          ]
        }
      ]
    },
    {
      "cell_type": "code",
      "source": [
        "# 🔹 3. FUNCTION WITH DEFAULT PARAMETERS\n",
        "\n",
        "def greet_user(name=\"Guest\"):\n",
        "    print(f\"Welcome, {name}!\")\n",
        "\n",
        "greet_user()         # Uses default\n",
        "greet_user(\"Ravi\")   # Overrides default\n"
      ],
      "metadata": {
        "colab": {
          "base_uri": "https://localhost:8080/"
        },
        "id": "B2oXLh1f26iw",
        "outputId": "fbc533f0-a141-42aa-fff5-cd565c5c68af"
      },
      "execution_count": 3,
      "outputs": [
        {
          "output_type": "stream",
          "name": "stdout",
          "text": [
            "Welcome, Guest!\n",
            "Welcome, Ravi!\n"
          ]
        }
      ]
    },
    {
      "cell_type": "code",
      "source": [
        "# 🔹 5. USING *args (VARIABLE NUMBER OF POSITIONAL ARGUMENTS)\n",
        "\n",
        "# *args lets you pass any number of positional arguments as a tuple\n",
        "\n",
        "def print_names(*names):\n",
        "    print(\"Names passed:\", names)\n",
        "    for name in names:\n",
        "        print(\"Hello\", name)\n",
        "\n",
        "print_names(\"Alice\", \"bob\", \"Charlie\")\n"
      ],
      "metadata": {
        "colab": {
          "base_uri": "https://localhost:8080/"
        },
        "id": "GMsUWYbo27yo",
        "outputId": "859e32d9-4915-49d0-a286-3976eb4bca7b"
      },
      "execution_count": 9,
      "outputs": [
        {
          "output_type": "stream",
          "name": "stdout",
          "text": [
            "Names passed: ('Alice', 'bob', 'Charlie')\n",
            "Hello Alice\n",
            "Hello bob\n",
            "Hello Charlie\n"
          ]
        }
      ]
    },
    {
      "cell_type": "code",
      "source": [
        "# 🔹 6. USING **kwargs (VARIABLE NUMBER OF KEYWORD ARGUMENTS)\n",
        "\n",
        "# **kwargs lets you pass any number of keyword arguments as a dictionary\n",
        "\n",
        "def print_info(**info):\n",
        "    print(\"User Info:\")\n",
        "    for key, value in info.items():\n",
        "        print(f\"{key} = {value}\")\n",
        "\n",
        "print_info(name=\"Alice\", age=25, city=\"Delhi\")\n"
      ],
      "metadata": {
        "colab": {
          "base_uri": "https://localhost:8080/"
        },
        "id": "1SprV2us29Uw",
        "outputId": "95d52a92-7b9a-4c4c-e1e1-e8c2669072f4"
      },
      "execution_count": 5,
      "outputs": [
        {
          "output_type": "stream",
          "name": "stdout",
          "text": [
            "User Info:\n",
            "name = Alice\n",
            "age = 25\n",
            "city = Delhi\n"
          ]
        }
      ]
    },
    {
      "cell_type": "code",
      "source": [
        "# 🔹 7. COMBINING *args AND **kwargs\n",
        "\n",
        "def show_details(*args, **kwargs):\n",
        "    print(\"Args:\", args)\n",
        "    print(\"Kwargs:\", kwargs)\n",
        "\n",
        "show_details(1, 2, 3, name=\"Ravi\", city=\"Mumbai\")\n"
      ],
      "metadata": {
        "colab": {
          "base_uri": "https://localhost:8080/"
        },
        "id": "aYCBVcVe2-5Q",
        "outputId": "afedae14-e79e-4904-e14c-74b804f3acb9"
      },
      "execution_count": 6,
      "outputs": [
        {
          "output_type": "stream",
          "name": "stdout",
          "text": [
            "Args: (1, 2, 3)\n",
            "Kwargs: {'name': 'Ravi', 'city': 'Mumbai'}\n"
          ]
        }
      ]
    },
    {
      "cell_type": "code",
      "source": [
        "# 🔹 8. FUNCTION NESTING (CALL ONE FUNCTION INSIDE ANOTHER)\n",
        "\n",
        "def multiply(a, b):\n",
        "    return a * b\n",
        "\n",
        "def square(n):\n",
        "    return multiply(n, n)\n",
        "\n",
        "print(\"Square of 4:\", square(4))\n"
      ],
      "metadata": {
        "colab": {
          "base_uri": "https://localhost:8080/"
        },
        "id": "oIXw31eK3Alg",
        "outputId": "706ddaa7-ecf6-4ad7-9217-64e939146603"
      },
      "execution_count": 7,
      "outputs": [
        {
          "output_type": "stream",
          "name": "stdout",
          "text": [
            "Square of 4: 16\n"
          ]
        }
      ]
    },
    {
      "cell_type": "markdown",
      "source": [
        "#✅ Summary Table\n",
        "\n",
        "| Feature        | Use Case Example                       |\n",
        "| -------------- | -------------------------------------- |\n",
        "| Basic Function | `def greet():`                         |\n",
        "| With Args      | `def greet(name):`                     |\n",
        "| With Default   | `def greet(name=\"Guest\"):`             |\n",
        "| Return Value   | `return result`                        |\n",
        "| `*args`        | `def func(*args):` → Tuple of args     |\n",
        "| `**kwargs`     | `def func(**kwargs):` → Dict of kwargs |\n",
        "| Nested         | One function calling another           |\n"
      ],
      "metadata": {
        "id": "vo2cTFb43D8e"
      }
    },
    {
      "cell_type": "code",
      "source": [],
      "metadata": {
        "id": "Dx1JG3T13CAg"
      },
      "execution_count": null,
      "outputs": []
    }
  ]
}