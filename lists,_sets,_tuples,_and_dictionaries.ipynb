{
  "nbformat": 4,
  "nbformat_minor": 0,
  "metadata": {
    "colab": {
      "provenance": []
    },
    "kernelspec": {
      "name": "python3",
      "display_name": "Python 3"
    },
    "language_info": {
      "name": "python"
    }
  },
  "cells": [
    {
      "cell_type": "markdown",
      "source": [
        "#🧪 Python Practical: Lists, Sets, Tuples, Dictionaries"
      ],
      "metadata": {
        "id": "ISbZoj9f1bfk"
      }
    },
    {
      "cell_type": "code",
      "execution_count": 6,
      "metadata": {
        "colab": {
          "base_uri": "https://localhost:8080/"
        },
        "id": "RBGlAiPa1PDP",
        "outputId": "49992a21-a4f6-43c2-dda7-ac6cde7f7141"
      },
      "outputs": [
        {
          "output_type": "stream",
          "name": "stdout",
          "text": [
            "Original list: ['apple', 'banana', 'cherry', 'apple']\n",
            "First fruit: apple\n"
          ]
        }
      ],
      "source": [
        "# 🔹 1. LISTS\n",
        "# A list is an ordered, mutable collection that allows duplicates\n",
        "\n",
        "fruits = ['apple', 'banana', 'cherry', 'apple']\n",
        "print(\"Original list:\", fruits)\n",
        "\n",
        "# Accessing elements by index\n",
        "print(\"First fruit:\", fruits[0])\n",
        "\n",
        "\n"
      ]
    },
    {
      "cell_type": "code",
      "source": [
        "# Adding an item\n",
        "fruits.append('orange')\n",
        "print(\"After appending:\", fruits)\n",
        "\n"
      ],
      "metadata": {
        "colab": {
          "base_uri": "https://localhost:8080/"
        },
        "id": "fkTUBRZx2Hme",
        "outputId": "0faa282a-e41c-4945-d63b-49d032259317"
      },
      "execution_count": 7,
      "outputs": [
        {
          "output_type": "stream",
          "name": "stdout",
          "text": [
            "After appending: ['apple', 'banana', 'cherry', 'apple', 'orange']\n"
          ]
        }
      ]
    },
    {
      "cell_type": "code",
      "source": [
        "# Removing an item\n",
        "fruits.remove('banana')\n",
        "print(\"After removing banana:\", fruits)\n",
        "\n",
        "# List length\n",
        "print(\"Number of fruits:\", len(fruits))"
      ],
      "metadata": {
        "colab": {
          "base_uri": "https://localhost:8080/"
        },
        "id": "Z0hNi_Fu2J4y",
        "outputId": "ba7beb11-7235-4584-b2ae-42b8af455a61"
      },
      "execution_count": 8,
      "outputs": [
        {
          "output_type": "stream",
          "name": "stdout",
          "text": [
            "After removing banana: ['apple', 'cherry', 'apple', 'orange']\n",
            "Number of fruits: 4\n"
          ]
        }
      ]
    },
    {
      "cell_type": "code",
      "source": [
        "# 🔹 2. TUPLES\n",
        "# A tuple is an ordered, immutable collection that allows duplicates\n",
        "\n",
        "dimensions = (10, 20, 30)\n",
        "print(\"Tuple:\", dimensions)\n",
        "\n",
        "\n"
      ],
      "metadata": {
        "colab": {
          "base_uri": "https://localhost:8080/"
        },
        "id": "PBfuvE8P1gzM",
        "outputId": "a4393e90-ab9f-413f-9a98-657f1ddb50d2"
      },
      "execution_count": 9,
      "outputs": [
        {
          "output_type": "stream",
          "name": "stdout",
          "text": [
            "Tuple: (10, 20, 30)\n"
          ]
        }
      ]
    },
    {
      "cell_type": "code",
      "source": [
        "# Accessing elements\n",
        "print(\"Second element:\", dimensions[1])\n",
        "\n",
        "# Tuples are immutable: can't add/remove\n",
        "# dimensions[1] = 50 → This would raise an error"
      ],
      "metadata": {
        "colab": {
          "base_uri": "https://localhost:8080/"
        },
        "id": "tZFXOk462TOB",
        "outputId": "eea937f9-117c-45a4-d111-63a48b2b54f4"
      },
      "execution_count": 10,
      "outputs": [
        {
          "output_type": "stream",
          "name": "stdout",
          "text": [
            "Second element: 20\n"
          ]
        }
      ]
    },
    {
      "cell_type": "code",
      "source": [
        "# 🔹 3. SETS\n",
        "# A set is an unordered, mutable collection with NO duplicates\n",
        "\n",
        "unique_numbers = {1, 2, 3, 2, 1}\n",
        "print(\"Set (no duplicates):\", unique_numbers)\n",
        "\n",
        "\n"
      ],
      "metadata": {
        "colab": {
          "base_uri": "https://localhost:8080/"
        },
        "id": "WPRSbdgM1xcp",
        "outputId": "58351a79-ec19-44c7-ff1e-d848120dd45b"
      },
      "execution_count": 11,
      "outputs": [
        {
          "output_type": "stream",
          "name": "stdout",
          "text": [
            "Set (no duplicates): {1, 2, 3}\n"
          ]
        }
      ]
    },
    {
      "cell_type": "code",
      "source": [
        "# Adding elements\n",
        "unique_numbers.add(4)\n",
        "print(\"After adding 4:\", unique_numbers)\n",
        "\n"
      ],
      "metadata": {
        "colab": {
          "base_uri": "https://localhost:8080/"
        },
        "id": "tY_vp1qj2WDL",
        "outputId": "6835c274-155b-4f03-e343-152ea52e60ef"
      },
      "execution_count": 12,
      "outputs": [
        {
          "output_type": "stream",
          "name": "stdout",
          "text": [
            "After adding 4: {1, 2, 3, 4}\n"
          ]
        }
      ]
    },
    {
      "cell_type": "code",
      "source": [
        "# Removing elements\n",
        "unique_numbers.remove(2)\n",
        "print(\"After removing 2:\", unique_numbers)\n",
        "\n"
      ],
      "metadata": {
        "colab": {
          "base_uri": "https://localhost:8080/"
        },
        "id": "sAss92H62YCp",
        "outputId": "623c91cc-f89a-4c10-f95d-712d0ed555e4"
      },
      "execution_count": 13,
      "outputs": [
        {
          "output_type": "stream",
          "name": "stdout",
          "text": [
            "After removing 2: {1, 3, 4}\n"
          ]
        }
      ]
    },
    {
      "cell_type": "code",
      "source": [
        "# Set operations\n",
        "set_a = {1, 2, 3}\n",
        "set_b = {3, 4, 5}\n",
        "print(\"Union:\", set_a | set_b)\n",
        "print(\"Intersection:\", set_a & set_b)\n",
        "print(\"Difference (A - B):\", set_a - set_b)"
      ],
      "metadata": {
        "colab": {
          "base_uri": "https://localhost:8080/"
        },
        "id": "xyylXlO82ZsV",
        "outputId": "01dfcfd7-3edc-4304-c787-6bda976d6e0f"
      },
      "execution_count": 14,
      "outputs": [
        {
          "output_type": "stream",
          "name": "stdout",
          "text": [
            "Union: {1, 2, 3, 4, 5}\n",
            "Intersection: {3}\n",
            "Difference (A - B): {1, 2}\n"
          ]
        }
      ]
    },
    {
      "cell_type": "code",
      "source": [
        "# 🔹 4. DICTIONARIES\n",
        "# A dictionary stores key-value pairs (like a map or JSON object)\n",
        "\n",
        "student = {\n",
        "    'name': 'Alice',\n",
        "    'age': 21,\n",
        "    'course': 'Python'\n",
        "}\n",
        "print(\"Dictionary:\", student)\n",
        "\n",
        "\n"
      ],
      "metadata": {
        "colab": {
          "base_uri": "https://localhost:8080/"
        },
        "id": "1DzyXzXE1zK5",
        "outputId": "56e0acb6-4ae1-4afe-fdce-08a1c82f20ae"
      },
      "execution_count": 15,
      "outputs": [
        {
          "output_type": "stream",
          "name": "stdout",
          "text": [
            "Dictionary: {'name': 'Alice', 'age': 21, 'course': 'Python'}\n"
          ]
        }
      ]
    },
    {
      "cell_type": "code",
      "source": [
        "# Access value by key\n",
        "print(\"Student name:\", student['name'])\n",
        "\n"
      ],
      "metadata": {
        "colab": {
          "base_uri": "https://localhost:8080/"
        },
        "id": "wkG4KVxN2bbB",
        "outputId": "327741d4-9d10-4570-a113-6e2f19197078"
      },
      "execution_count": 16,
      "outputs": [
        {
          "output_type": "stream",
          "name": "stdout",
          "text": [
            "Student name: Alice\n"
          ]
        }
      ]
    },
    {
      "cell_type": "code",
      "source": [
        "# Add or update value\n",
        "student['grade'] = 'A'\n",
        "print(\"After adding grade:\", student)\n",
        "\n",
        "# Remove a key\n",
        "del student['age']\n",
        "print(\"After deleting age:\", student)\n",
        "\n",
        "# Loop through dictionary\n",
        "for key, value in student.items():\n",
        "    print(f\"{key}: {value}\")"
      ],
      "metadata": {
        "colab": {
          "base_uri": "https://localhost:8080/"
        },
        "id": "NmE982R62dn2",
        "outputId": "0e032d9d-98b9-412b-c566-a19258d2ee58"
      },
      "execution_count": 17,
      "outputs": [
        {
          "output_type": "stream",
          "name": "stdout",
          "text": [
            "After adding grade: {'name': 'Alice', 'age': 21, 'course': 'Python', 'grade': 'A'}\n",
            "After deleting age: {'name': 'Alice', 'course': 'Python', 'grade': 'A'}\n",
            "name: Alice\n",
            "course: Python\n",
            "grade: A\n"
          ]
        }
      ]
    },
    {
      "cell_type": "code",
      "source": [
        "# Bonus: Dictionary from two lists using zip()\n",
        "keys = ['id', 'name', 'marks']\n",
        "values = [101, 'John', 88]\n",
        "student_info = dict(zip(keys, values))\n",
        "print(\"Student Info from zip:\", student_info)\n"
      ],
      "metadata": {
        "colab": {
          "base_uri": "https://localhost:8080/"
        },
        "id": "zfNaQfdf16no",
        "outputId": "15c5af38-8d10-4ff3-c9f7-2a56ccf7f917"
      },
      "execution_count": 18,
      "outputs": [
        {
          "output_type": "stream",
          "name": "stdout",
          "text": [
            "Student Info from zip: {'id': 101, 'name': 'John', 'marks': 88}\n"
          ]
        }
      ]
    },
    {
      "cell_type": "markdown",
      "source": [
        "#✅ Summary\n",
        "\n",
        "| Data Type  | Ordered | Mutable | Duplicates | Example Syntax |\n",
        "| ---------- | ------- | ------- | ---------- | -------------- |\n",
        "| List       | ✅       | ✅       | ✅          | `['a', 'b']`   |\n",
        "| Tuple      | ✅       | ❌       | ✅          | `('a', 'b')`   |\n",
        "| Set        | ❌       | ✅       | ❌          | `{'a', 'b'}`   |\n",
        "| Dictionary | ✅ keys  | ✅       | keys ❌     | `{'k': 'v'}`   |\n"
      ],
      "metadata": {
        "id": "9tnoWfLQ1-yr"
      }
    }
  ]
}