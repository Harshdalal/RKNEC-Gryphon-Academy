{
  "nbformat": 4,
  "nbformat_minor": 0,
  "metadata": {
    "colab": {
      "provenance": []
    },
    "kernelspec": {
      "name": "python3",
      "display_name": "Python 3"
    },
    "language_info": {
      "name": "python"
    }
  },
  "cells": [
    {
      "cell_type": "markdown",
      "source": [
        "#numpy operations"
      ],
      "metadata": {
        "id": "PWzleImPiyoq"
      }
    },
    {
      "cell_type": "markdown",
      "source": [
        "#objectives\n",
        "\n",
        "Array creation shortcuts\n",
        "\n",
        "Aggregation functions (sum, mean, etc.)\n",
        "\n",
        "Sorting and searching\n",
        "\n",
        "Reshaping and flattening\n",
        "\n",
        "Broadcasting\n",
        "\n",
        "Conditional operations\n",
        "\n",
        "Copying vs. viewing arrays\n",
        "\n",
        "Stacking and splitting arrays\n",
        "\n",
        "indexing and slicing with array"
      ],
      "metadata": {
        "id": "Sy2KYchQi5ME"
      }
    },
    {
      "cell_type": "code",
      "execution_count": 4,
      "metadata": {
        "id": "L3tIO68niubK"
      },
      "outputs": [],
      "source": [
        "import numpy as np"
      ]
    },
    {
      "cell_type": "code",
      "source": [
        "# -----------------------------------------------------------\n",
        "# 🔹 1. ARRAY CREATION FUNCTIONS\n",
        "# -----------------------------------------------------------\n",
        "\n",
        "# arange(): Create range of numbers like Python's range()\n",
        "arr1 = np.arange(0, 10, 2)\n",
        "print(\"Array using arange:\", arr1)\n",
        "\n"
      ],
      "metadata": {
        "colab": {
          "base_uri": "https://localhost:8080/"
        },
        "id": "LBoFyI9qi9vX",
        "outputId": "48de3f4c-1624-4506-9994-23b9c55e6823"
      },
      "execution_count": 5,
      "outputs": [
        {
          "output_type": "stream",
          "name": "stdout",
          "text": [
            "Array using arange: [0 2 4 6 8]\n"
          ]
        }
      ]
    },
    {
      "cell_type": "code",
      "source": [
        "# linspace(): Create evenly spaced values between two limits\n",
        "arr2 = np.linspace(0, 1, 5)\n",
        "print(\"Array using linspace:\", arr2)\n",
        "\n"
      ],
      "metadata": {
        "colab": {
          "base_uri": "https://localhost:8080/"
        },
        "id": "flawBDJHjAA5",
        "outputId": "62746b0f-7087-4e65-8548-967acdbe7f34"
      },
      "execution_count": 6,
      "outputs": [
        {
          "output_type": "stream",
          "name": "stdout",
          "text": [
            "Array using linspace: [0.   0.25 0.5  0.75 1.  ]\n"
          ]
        }
      ]
    },
    {
      "cell_type": "code",
      "source": [
        "# reshape(): Change shape without changing data\n",
        "arr3 = np.arange(1, 10).reshape((3, 3))\n",
        "print(\"Reshaped Array (3x3):\\n\", arr3)\n",
        "\n",
        "# flatten(): Convert multi-dimensional array to 1D\n",
        "print(\"Flattened version:\", arr3.flatten())"
      ],
      "metadata": {
        "colab": {
          "base_uri": "https://localhost:8080/"
        },
        "id": "97zgWjxejEiu",
        "outputId": "2ac1c470-a25e-42a4-acd4-9aa6b40627ab"
      },
      "execution_count": 7,
      "outputs": [
        {
          "output_type": "stream",
          "name": "stdout",
          "text": [
            "Reshaped Array (3x3):\n",
            " [[1 2 3]\n",
            " [4 5 6]\n",
            " [7 8 9]]\n",
            "Flattened version: [1 2 3 4 5 6 7 8 9]\n"
          ]
        }
      ]
    },
    {
      "cell_type": "code",
      "source": [
        "# -----------------------------------------------------------\n",
        "# 🔹 2. AGGREGATE FUNCTIONS\n",
        "# -----------------------------------------------------------\n",
        "\n",
        "data = np.array([[5, 8, 9], [2, 4, 6]])\n",
        "\n",
        "print(\"Original Data:\\n\", data)\n"
      ],
      "metadata": {
        "colab": {
          "base_uri": "https://localhost:8080/"
        },
        "id": "A0P3ykDJjJUb",
        "outputId": "6b4e1b1c-8351-4802-830d-a6543db64830"
      },
      "execution_count": 8,
      "outputs": [
        {
          "output_type": "stream",
          "name": "stdout",
          "text": [
            "Original Data:\n",
            " [[5 8 9]\n",
            " [2 4 6]]\n"
          ]
        }
      ]
    },
    {
      "cell_type": "code",
      "source": [
        "\n",
        "print(\"Sum of all elements:\", np.sum(data))             # Total sum\n",
        "print(\"Column-wise sum:\", np.sum(data, axis=0))         # Sum along columns\n",
        "print(\"Row-wise mean:\", np.mean(data, axis=1))          # Average of each row\n",
        "print(\"Max value:\", np.max(data))                       # Maximum value\n"
      ],
      "metadata": {
        "colab": {
          "base_uri": "https://localhost:8080/"
        },
        "id": "tdcz2sLajOgB",
        "outputId": "e8e19a52-58e6-48d2-8801-949566b8e69e"
      },
      "execution_count": 9,
      "outputs": [
        {
          "output_type": "stream",
          "name": "stdout",
          "text": [
            "Sum of all elements: 34\n",
            "Column-wise sum: [ 7 12 15]\n",
            "Row-wise mean: [7.33333333 4.        ]\n",
            "Max value: 9\n"
          ]
        }
      ]
    },
    {
      "cell_type": "code",
      "source": [
        "print(\"Index of max value (flattened):\", np.argmax(data))\n",
        "print(\"Min value:\", np.min(data))                       # Minimum value\n",
        "print(\"Standard Deviation:\", np.std(data))              # Spread of values"
      ],
      "metadata": {
        "colab": {
          "base_uri": "https://localhost:8080/"
        },
        "id": "C3Cs9xVNjeXQ",
        "outputId": "894720a5-36a3-4161-b096-818caef954cf"
      },
      "execution_count": 10,
      "outputs": [
        {
          "output_type": "stream",
          "name": "stdout",
          "text": [
            "Index of max value (flattened): 2\n",
            "Min value: 2\n",
            "Standard Deviation: 2.3570226039551585\n"
          ]
        }
      ]
    },
    {
      "cell_type": "code",
      "source": [
        "# -----------------------------------------------------------\n",
        "# 🔹 3. SORTING AND SEARCHING\n",
        "# -----------------------------------------------------------\n",
        "\n",
        "a = np.array([3, 1, 7, 2, 9])\n",
        "print(\"Original Array:\", a)\n",
        "\n"
      ],
      "metadata": {
        "colab": {
          "base_uri": "https://localhost:8080/"
        },
        "id": "WbUcT3rkjfAQ",
        "outputId": "a5ca8e39-2fa9-46fd-e272-02de75040257"
      },
      "execution_count": 11,
      "outputs": [
        {
          "output_type": "stream",
          "name": "stdout",
          "text": [
            "Original Array: [3 1 7 2 9]\n"
          ]
        }
      ]
    },
    {
      "cell_type": "code",
      "source": [
        "# Sort array values\n",
        "sorted_array = np.sort(a)\n",
        "print(\"Sorted Array:\", sorted_array)\n",
        "\n",
        "# Find indices where condition is True (value > 4)\n",
        "idx = np.where(a > 4)\n",
        "print(\"Indices where value > 4:\", idx)\n",
        "print(\"Values > 4:\", a[idx])"
      ],
      "metadata": {
        "colab": {
          "base_uri": "https://localhost:8080/"
        },
        "id": "DllAoE3xji9a",
        "outputId": "ef9f405b-94d6-4dff-a467-feec1d89d260"
      },
      "execution_count": 12,
      "outputs": [
        {
          "output_type": "stream",
          "name": "stdout",
          "text": [
            "Sorted Array: [1 2 3 7 9]\n",
            "Indices where value > 4: (array([2, 4]),)\n",
            "Values > 4: [7 9]\n"
          ]
        }
      ]
    },
    {
      "cell_type": "code",
      "source": [
        "# -----------------------------------------------------------\n",
        "# 🔹 4. BROADCASTING IN NUMPY\n",
        "# -----------------------------------------------------------\n",
        "\n",
        "# Broadcasting allows NumPy to perform operations between arrays of different shapes\n",
        "A = np.array([[1, 2], [3, 4]])  # 2x2 matrix\n",
        "B = np.array([10, 20])          # 1D array with 2 elements\n",
        "\n",
        "print(\"Matrix A:\\n\", A)\n",
        "print(\"Vector B:\", B)\n",
        "\n"
      ],
      "metadata": {
        "colab": {
          "base_uri": "https://localhost:8080/"
        },
        "id": "xGdxQxgTjjpE",
        "outputId": "47ce3087-12ed-4a91-eaa0-89b85df2e2b1"
      },
      "execution_count": 13,
      "outputs": [
        {
          "output_type": "stream",
          "name": "stdout",
          "text": [
            "Matrix A:\n",
            " [[1 2]\n",
            " [3 4]]\n",
            "Vector B: [10 20]\n"
          ]
        }
      ]
    },
    {
      "cell_type": "code",
      "source": [
        "# B is broadcasted to each row of A\n",
        "C = A + B\n",
        "print(\"Broadcasted Addition Result:\\n\", C)"
      ],
      "metadata": {
        "colab": {
          "base_uri": "https://localhost:8080/"
        },
        "id": "r7pp_B00jnsK",
        "outputId": "07c41cfc-348f-4066-ea6a-5aa590d2288e"
      },
      "execution_count": 14,
      "outputs": [
        {
          "output_type": "stream",
          "name": "stdout",
          "text": [
            "Broadcasted Addition Result:\n",
            " [[11 22]\n",
            " [13 24]]\n"
          ]
        }
      ]
    },
    {
      "cell_type": "code",
      "source": [
        "# -----------------------------------------------------------\n",
        "# 🔹 5. CONDITIONAL OPERATIONS\n",
        "# -----------------------------------------------------------\n",
        "\n",
        "nums = np.array([1, 2, 3, 4, 5])\n",
        "\n",
        "# Create boolean mask for condition nums > 3\n",
        "mask = nums > 3\n",
        "print(\"Mask (nums > 3):\", mask)\n",
        "\n"
      ],
      "metadata": {
        "colab": {
          "base_uri": "https://localhost:8080/"
        },
        "id": "WrhLkjIfjoLe",
        "outputId": "9a5fcaa0-9fc6-43d7-ca0f-84db550f4e07"
      },
      "execution_count": 15,
      "outputs": [
        {
          "output_type": "stream",
          "name": "stdout",
          "text": [
            "Mask (nums > 3): [False False False  True  True]\n"
          ]
        }
      ]
    },
    {
      "cell_type": "code",
      "source": [
        "# Use mask to filter values\n",
        "filtered = nums[mask]\n",
        "print(\"Filtered values:\", filtered)\n",
        "\n",
        "# np.where: apply conditional logic\n",
        "result = np.where(nums % 2 == 0, \"Even\", \"Odd\")\n",
        "print(\"Even or Odd:\", result)"
      ],
      "metadata": {
        "colab": {
          "base_uri": "https://localhost:8080/"
        },
        "id": "YP6oi3D-jsez",
        "outputId": "4591cfaa-2b7d-4a2e-f8ca-785839d26213"
      },
      "execution_count": 16,
      "outputs": [
        {
          "output_type": "stream",
          "name": "stdout",
          "text": [
            "Filtered values: [4 5]\n",
            "Even or Odd: ['Odd' 'Even' 'Odd' 'Even' 'Odd']\n"
          ]
        }
      ]
    },
    {
      "cell_type": "code",
      "source": [
        "# -----------------------------------------------------------\n",
        "# 🔹 6. COPYING VS VIEWING ARRAYS\n",
        "# -----------------------------------------------------------\n",
        "\n",
        "arr_orig = np.array([10, 20, 30])\n",
        "\n",
        "# Creating a view (shares memory)\n",
        "arr_view = arr_orig[:]\n",
        "arr_view[0] = 99  # This change affects original\n",
        "print(\"Original After View Change:\", arr_orig)\n",
        "\n"
      ],
      "metadata": {
        "colab": {
          "base_uri": "https://localhost:8080/"
        },
        "id": "QCkqcadXjs8D",
        "outputId": "6057080b-9ec2-4c0f-ef22-5454c0ae594d"
      },
      "execution_count": 17,
      "outputs": [
        {
          "output_type": "stream",
          "name": "stdout",
          "text": [
            "Original After View Change: [99 20 30]\n"
          ]
        }
      ]
    },
    {
      "cell_type": "code",
      "source": [
        "# Creating a copy (independent)\n",
        "arr_copy = arr_orig.copy()\n",
        "arr_copy[0] = 55  # This does NOT affect original\n",
        "print(\"Original After Copy Change:\", arr_orig)\n",
        "print(\"Copy:\", arr_copy)"
      ],
      "metadata": {
        "colab": {
          "base_uri": "https://localhost:8080/"
        },
        "id": "Q-dInAS2jwWQ",
        "outputId": "98560cef-7c3d-4a44-838b-3cd86fa88061"
      },
      "execution_count": 18,
      "outputs": [
        {
          "output_type": "stream",
          "name": "stdout",
          "text": [
            "Original After Copy Change: [99 20 30]\n",
            "Copy: [55 20 30]\n"
          ]
        }
      ]
    },
    {
      "cell_type": "code",
      "source": [
        "# -----------------------------------------------------------\n",
        "# 🔹 7. STACKING AND SPLITTING\n",
        "# -----------------------------------------------------------\n",
        "\n",
        "x = np.array([1, 2, 3])\n",
        "y = np.array([4, 5, 6])\n",
        "\n",
        "# Vertical stack (as rows)\n",
        "v_stack = np.vstack((x, y))\n",
        "print(\"Vertical Stack:\\n\", v_stack)\n",
        "\n"
      ],
      "metadata": {
        "colab": {
          "base_uri": "https://localhost:8080/"
        },
        "id": "cLKrjbNHjw4A",
        "outputId": "f4179f7a-9ead-4a3c-fecf-7185aab435f1"
      },
      "execution_count": 19,
      "outputs": [
        {
          "output_type": "stream",
          "name": "stdout",
          "text": [
            "Vertical Stack:\n",
            " [[1 2 3]\n",
            " [4 5 6]]\n"
          ]
        }
      ]
    },
    {
      "cell_type": "code",
      "source": [
        "# Horizontal stack (as columns)\n",
        "h_stack = np.hstack((x, y))\n",
        "print(\"Horizontal Stack:\\n\", h_stack)\n",
        "\n",
        "# Split an array into 3 sub-arrays\n",
        "z = np.arange(10)\n",
        "split_arr = np.array_split(z, 3)\n",
        "print(\"Split into 3 parts:\", split_arr)"
      ],
      "metadata": {
        "colab": {
          "base_uri": "https://localhost:8080/"
        },
        "id": "p4gHHGCpj2A4",
        "outputId": "9e4b020a-00c9-4c35-fe03-55f53e23dff6"
      },
      "execution_count": 20,
      "outputs": [
        {
          "output_type": "stream",
          "name": "stdout",
          "text": [
            "Horizontal Stack:\n",
            " [1 2 3 4 5 6]\n",
            "Split into 3 parts: [array([0, 1, 2, 3]), array([4, 5, 6]), array([7, 8, 9])]\n"
          ]
        }
      ]
    },
    {
      "cell_type": "code",
      "source": [
        "# -----------------------------------------------------------\n",
        "# 🔹 8. RANDOM NUMPY FUNCTIONS\n",
        "# -----------------------------------------------------------\n",
        "\n",
        "# Random integers from 0 to 100 in 3x3 matrix\n",
        "rand_ints = np.random.randint(0, 100, size=(3, 3))\n",
        "print(\"Random Integers:\\n\", rand_ints)\n",
        "\n",
        "# Random values from standard normal distribution (mean=0, std=1)\n",
        "rand_norm = np.random.randn(2, 4)\n",
        "print(\"Random Normal Distribution:\\n\", rand_norm)\n"
      ],
      "metadata": {
        "colab": {
          "base_uri": "https://localhost:8080/"
        },
        "id": "RlRR1P1bj2gV",
        "outputId": "03256a5c-d7e2-4cb4-97f5-4fc96677ba4b"
      },
      "execution_count": 21,
      "outputs": [
        {
          "output_type": "stream",
          "name": "stdout",
          "text": [
            "Random Integers:\n",
            " [[32  5  2]\n",
            " [65  7 66]\n",
            " [84 36  0]]\n",
            "Random Normal Distribution:\n",
            " [[ 0.86812815 -0.53323704  0.39268707 -0.95613598]\n",
            " [-0.27866774 -1.72986102 -0.73770161 -1.22557566]]\n"
          ]
        }
      ]
    },
    {
      "cell_type": "code",
      "source": [
        "\n",
        "# Random sampling from a custom list\n",
        "choices = np.random.choice([1, 3, 5, 7], size=5)\n",
        "print(\"Random Choices:\", choices)\n",
        "\n",
        "# Setting a seed ensures reproducible random results\n",
        "np.random.seed(42)\n",
        "print(\"Seeded Random Number:\", np.random.rand())"
      ],
      "metadata": {
        "colab": {
          "base_uri": "https://localhost:8080/"
        },
        "id": "-nTodx8Mj5uv",
        "outputId": "de0165a8-50b3-443e-8a56-e61f3a871762"
      },
      "execution_count": 22,
      "outputs": [
        {
          "output_type": "stream",
          "name": "stdout",
          "text": [
            "Random Choices: [1 5 7 1 7]\n",
            "Seeded Random Number: 0.3745401188473625\n"
          ]
        }
      ]
    },
    {
      "cell_type": "code",
      "source": [
        "# -----------------------------------------------------------\n",
        "# 🔹 9. INDEXING AND SLICING WITH ARRAYS\n",
        "# -----------------------------------------------------------\n",
        "\n",
        "# Create a sample 1D array\n",
        "arr = np.array([10, 20, 30, 40, 50, 60])\n",
        "print(\"Original 1D Array:\", arr)\n",
        "\n",
        "# Access single elements by index\n",
        "print(\"Element at index 0:\", arr[0])        # 10\n",
        "print(\"Element at last index:\", arr[-1])    # 60\n"
      ],
      "metadata": {
        "colab": {
          "base_uri": "https://localhost:8080/"
        },
        "id": "r1obQDmJj6V0",
        "outputId": "b011971e-2bd7-4f24-efd1-0c8719c80dcc"
      },
      "execution_count": 23,
      "outputs": [
        {
          "output_type": "stream",
          "name": "stdout",
          "text": [
            "Original 1D Array: [10 20 30 40 50 60]\n",
            "Element at index 0: 10\n",
            "Element at last index: 60\n"
          ]
        }
      ]
    },
    {
      "cell_type": "code",
      "source": [
        "\n",
        "# Slice elements [start:stop] (stop is exclusive)\n",
        "print(\"Slice from index 1 to 4:\", arr[1:4])  # [20, 30, 40]\n",
        "\n",
        "# Slice with step\n",
        "print(\"Every second element:\", arr[::2])     # [10, 30, 50]\n",
        "\n",
        "# Reverse array\n",
        "print(\"Reversed array:\", arr[::-1])          # [60, 50, ..., 10]"
      ],
      "metadata": {
        "colab": {
          "base_uri": "https://localhost:8080/"
        },
        "id": "_8kWQy_zkVFO",
        "outputId": "9eefb27a-d936-4897-d447-f74a637f6d34"
      },
      "execution_count": 24,
      "outputs": [
        {
          "output_type": "stream",
          "name": "stdout",
          "text": [
            "Slice from index 1 to 4: [20 30 40]\n",
            "Every second element: [10 30 50]\n",
            "Reversed array: [60 50 40 30 20 10]\n"
          ]
        }
      ]
    },
    {
      "cell_type": "code",
      "source": [
        "# -----------------------------------------------------------\n",
        "# 🔹 10A. 2D ARRAY INDEXING AND SLICING\n",
        "# -----------------------------------------------------------\n",
        "\n",
        "matrix = np.array([[1, 2, 3],\n",
        "                   [4, 5, 6],\n",
        "                   [7, 8, 9]])\n",
        "\n",
        "print(\"Original Matrix:\\n\", matrix)\n",
        "\n",
        "# Access element at row 1, column 2\n",
        "print(\"Element at (1,2):\", matrix[1, 2])  # 6\n",
        "\n",
        "# Get entire first row\n",
        "print(\"First row:\", matrix[0, :])  # [1, 2, 3]\n",
        "\n",
        "# Get entire second column\n",
        "print(\"Second column:\", matrix[:, 1])  # [2, 5, 8]\n",
        "\n",
        "# Slice sub-matrix (top-left 2x2 block)\n",
        "print(\"Top-left 2x2 block:\\n\", matrix[:2, :2])  # [[1,2],[4,5]]\n"
      ],
      "metadata": {
        "colab": {
          "base_uri": "https://localhost:8080/"
        },
        "id": "aMyhEn0skVrj",
        "outputId": "62a5068a-060a-4338-ec10-f8070ab02b84"
      },
      "execution_count": 25,
      "outputs": [
        {
          "output_type": "stream",
          "name": "stdout",
          "text": [
            "Original Matrix:\n",
            " [[1 2 3]\n",
            " [4 5 6]\n",
            " [7 8 9]]\n",
            "Element at (1,2): 6\n",
            "First row: [1 2 3]\n",
            "Second column: [2 5 8]\n",
            "Top-left 2x2 block:\n",
            " [[1 2]\n",
            " [4 5]]\n"
          ]
        }
      ]
    },
    {
      "cell_type": "code",
      "source": [
        "# -----------------------------------------------------------\n",
        "# 🔹 10B. BOOLEAN INDEXING\n",
        "# -----------------------------------------------------------\n",
        "\n",
        "arr = np.array([5, 10, 15, 20, 25, 30])\n",
        "\n",
        "# Create a boolean mask for values > 15\n",
        "mask = arr > 15\n",
        "print(\"Boolean Mask:\", mask)\n",
        "\n",
        "# Use mask to filter elements\n",
        "print(\"Values greater than 15:\", arr[mask])  # [20, 25, 30]\n",
        "\n",
        "# Combine conditions\n",
        "print(\"Even numbers > 10:\", arr[(arr > 10) & (arr % 2 == 0)])  # [20, 30]"
      ],
      "metadata": {
        "colab": {
          "base_uri": "https://localhost:8080/"
        },
        "id": "MSU7NgePkbsL",
        "outputId": "a20ee868-4faf-49a3-b141-08cf7884a4e0"
      },
      "execution_count": 26,
      "outputs": [
        {
          "output_type": "stream",
          "name": "stdout",
          "text": [
            "Boolean Mask: [False False False  True  True  True]\n",
            "Values greater than 15: [20 25 30]\n",
            "Even numbers > 10: [20 30]\n"
          ]
        }
      ]
    },
    {
      "cell_type": "markdown",
      "source": [
        "#📘 Summary: Indexing and Slicing Techniques\n",
        "\n",
        "| Technique              | Description           |\n",
        "| ---------------------- | --------------------- |\n",
        "| `arr[i]`               | Access single item    |\n",
        "| `arr[start:stop:step]` | Basic slicing         |\n",
        "| `arr[::-1]`            | Reverse               |\n",
        "| `arr[i, j]`            | Access in 2D          |\n",
        "| `arr[:, 1]`            | Column-wise slicing   |\n",
        "| Boolean indexing       | Use condition filters |\n",
        "| Fancy indexing         | Use array of indices  |\n"
      ],
      "metadata": {
        "id": "-9yTQNEikjfm"
      }
    },
    {
      "cell_type": "code",
      "source": [],
      "metadata": {
        "id": "tsbfXC8wkcfl"
      },
      "execution_count": 26,
      "outputs": []
    }
  ]
}