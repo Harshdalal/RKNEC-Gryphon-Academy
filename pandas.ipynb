{
  "nbformat": 4,
  "nbformat_minor": 0,
  "metadata": {
    "colab": {
      "provenance": []
    },
    "kernelspec": {
      "name": "python3",
      "display_name": "Python 3"
    },
    "language_info": {
      "name": "python"
    }
  },
  "cells": [
    {
      "cell_type": "markdown",
      "source": [
        "#Pandas Operations\n",
        "\n",
        "Basic pandas functions\n",
        "\n",
        "Converting arrays to DataFrames\n",
        "\n",
        "Indexing and slicing in DataFrames\n",
        "\n",
        "Data cleaning (handling missing values)\n",
        "\n",
        "Data manipulation (columns, sorting, grouping)\n",
        "\n",
        "Synthetic data generation for practice\n",
        "\n"
      ],
      "metadata": {
        "id": "oE4HYfJKnAzk"
      }
    },
    {
      "cell_type": "code",
      "source": [
        "# -----------------------------------------------------------\n",
        "# 🧒 PRACTICAL: Getting Started with pandas Library\n",
        "# -----------------------------------------------------------\n",
        "\n",
        "import pandas as pd\n",
        "import numpy as np"
      ],
      "metadata": {
        "id": "ukBY-VaCmxgK"
      },
      "execution_count": 6,
      "outputs": []
    },
    {
      "cell_type": "code",
      "source": [
        "# -----------------------------------------------------------\n",
        "# 🔹 1. BASIC PANDAS DATA STRUCTURES\n",
        "# -----------------------------------------------------------\n",
        "\n",
        "# Create a Series (1D labeled array with custom index)\n",
        "s = pd.Series([10, 20, 30, 40], index=['a', 'b', 'c', 'd'])\n",
        "print(\"\\nSeries:\")\n",
        "print(s)\n",
        "\n",
        "# Create a DataFrame (2D labeled table)\n",
        "data = {\n",
        "    'Name': ['Alice', 'Bob', 'Charlie', 'David'],\n",
        "    'Age': [25, 30, 35, 40],\n",
        "    'Salary': [50000, 60000, 70000, 80000]\n",
        "}\n",
        "df = pd.DataFrame(data)\n",
        "print(\"\\nDataFrame:\")\n",
        "print(df)"
      ],
      "metadata": {
        "colab": {
          "base_uri": "https://localhost:8080/"
        },
        "id": "aoLPyD8Wmxdk",
        "outputId": "ab877895-2337-4028-b7d7-8ffe1d0c1565"
      },
      "execution_count": 7,
      "outputs": [
        {
          "output_type": "stream",
          "name": "stdout",
          "text": [
            "\n",
            "Series:\n",
            "a    10\n",
            "b    20\n",
            "c    30\n",
            "d    40\n",
            "dtype: int64\n",
            "\n",
            "DataFrame:\n",
            "      Name  Age  Salary\n",
            "0    Alice   25   50000\n",
            "1      Bob   30   60000\n",
            "2  Charlie   35   70000\n",
            "3    David   40   80000\n"
          ]
        }
      ]
    },
    {
      "cell_type": "code",
      "source": [
        "# -----------------------------------------------------------\n",
        "# 🔹 2. CONVERT ARRAY TO DATAFRAME\n",
        "# -----------------------------------------------------------\n",
        "\n",
        "# Convert a NumPy array to a DataFrame\n",
        "array = np.array([[1, 2], [3, 4], [5, 6]])\n",
        "df_from_array = pd.DataFrame(array, columns=['Column1', 'Column2'])\n",
        "print(\"\\nDataFrame from NumPy array:\")\n",
        "print(df_from_array)"
      ],
      "metadata": {
        "colab": {
          "base_uri": "https://localhost:8080/"
        },
        "id": "sTtTdah9mxaq",
        "outputId": "a1b2e88e-a45e-4267-cb23-9625c274ec13"
      },
      "execution_count": 8,
      "outputs": [
        {
          "output_type": "stream",
          "name": "stdout",
          "text": [
            "\n",
            "DataFrame from NumPy array:\n",
            "   Column1  Column2\n",
            "0        1        2\n",
            "1        3        4\n",
            "2        5        6\n"
          ]
        }
      ]
    },
    {
      "cell_type": "code",
      "source": [
        "# -----------------------------------------------------------\n",
        "# 🔹 3. INDEXING & SLICING IN DATAFRAME\n",
        "# -----------------------------------------------------------\n",
        "\n",
        "# Access a row by label using loc\n",
        "print(\"\\nRow with label 1 using loc:\")\n",
        "print(df.loc[1])\n",
        "\n",
        "\n"
      ],
      "metadata": {
        "colab": {
          "base_uri": "https://localhost:8080/"
        },
        "id": "MA3hoVsmmxYP",
        "outputId": "6c9bdf06-9d13-4471-e019-800721e1ffd8"
      },
      "execution_count": 9,
      "outputs": [
        {
          "output_type": "stream",
          "name": "stdout",
          "text": [
            "\n",
            "Row with label 1 using loc:\n",
            "Name        Bob\n",
            "Age          30\n",
            "Salary    60000\n",
            "Name: 1, dtype: object\n"
          ]
        }
      ]
    },
    {
      "cell_type": "code",
      "source": [
        "# Access rows by position using iloc\n",
        "print(\"\\nFirst two rows using iloc:\")\n",
        "print(df.iloc[0:2])\n"
      ],
      "metadata": {
        "colab": {
          "base_uri": "https://localhost:8080/"
        },
        "id": "9f-GuP6Vnj-n",
        "outputId": "7e8588f0-aa94-443d-fbda-787d0c152203"
      },
      "execution_count": 10,
      "outputs": [
        {
          "output_type": "stream",
          "name": "stdout",
          "text": [
            "\n",
            "First two rows using iloc:\n",
            "    Name  Age  Salary\n",
            "0  Alice   25   50000\n",
            "1    Bob   30   60000\n"
          ]
        }
      ]
    },
    {
      "cell_type": "code",
      "source": [
        "# Select a single column by label\n",
        "print(\"\\nSelect 'Name' column:\")\n",
        "print(df['Name'])\n",
        "\n",
        "# Select multiple columns\n",
        "print(\"\\nSelect 'Name' and 'Age' columns:\")\n",
        "print(df[['Name', 'Age']])\n",
        "\n",
        "# Filter rows where a condition is true\n",
        "print(\"\\nRows where Salary > 60000:\")\n",
        "print(df[df['Salary'] > 60000])"
      ],
      "metadata": {
        "colab": {
          "base_uri": "https://localhost:8080/"
        },
        "id": "HyQfANmjmxVD",
        "outputId": "610fc721-f0a7-4142-8c6f-18f7730cbdc8"
      },
      "execution_count": 11,
      "outputs": [
        {
          "output_type": "stream",
          "name": "stdout",
          "text": [
            "\n",
            "Select 'Name' column:\n",
            "0      Alice\n",
            "1        Bob\n",
            "2    Charlie\n",
            "3      David\n",
            "Name: Name, dtype: object\n",
            "\n",
            "Select 'Name' and 'Age' columns:\n",
            "      Name  Age\n",
            "0    Alice   25\n",
            "1      Bob   30\n",
            "2  Charlie   35\n",
            "3    David   40\n",
            "\n",
            "Rows where Salary > 60000:\n",
            "      Name  Age  Salary\n",
            "2  Charlie   35   70000\n",
            "3    David   40   80000\n"
          ]
        }
      ]
    },
    {
      "cell_type": "code",
      "source": [
        "# -----------------------------------------------------------\n",
        "# 🔹 4. DATA CLEANING\n",
        "# -----------------------------------------------------------\n",
        "\n",
        "# Create a DataFrame with missing (NaN) values\n",
        "data_dirty = {\n",
        "    'Name': ['Alice', 'Bob', None, 'David'],\n",
        "    'Age': [25, None, 35, 40],\n",
        "    'Salary': [50000, 60000, None, 80000]\n",
        "}\n",
        "df_dirty = pd.DataFrame(data_dirty)\n",
        "print(\"\\nOriginal Dirty DataFrame:\")\n",
        "print(df_dirty)\n",
        "\n"
      ],
      "metadata": {
        "colab": {
          "base_uri": "https://localhost:8080/"
        },
        "id": "dRy9TsdHmxSb",
        "outputId": "58345cd7-d0e3-4e6c-c34b-2aa2e06bb233"
      },
      "execution_count": 12,
      "outputs": [
        {
          "output_type": "stream",
          "name": "stdout",
          "text": [
            "\n",
            "Original Dirty DataFrame:\n",
            "    Name   Age   Salary\n",
            "0  Alice  25.0  50000.0\n",
            "1    Bob   NaN  60000.0\n",
            "2   None  35.0      NaN\n",
            "3  David  40.0  80000.0\n"
          ]
        }
      ]
    },
    {
      "cell_type": "code",
      "source": [
        "# Drop rows with any missing values\n",
        "print(\"\\nDrop rows with any NaN values:\")\n",
        "print(df_dirty.dropna())\n",
        "\n",
        "# Fill missing values with specified values\n",
        "print(\"\\nFill missing values with a specific value:\")\n",
        "print(df_dirty.fillna({'Name': 'Unknown', 'Age': df_dirty['Age'].mean(), 'Salary': 0}))\n",
        "\n"
      ],
      "metadata": {
        "colab": {
          "base_uri": "https://localhost:8080/"
        },
        "id": "1QsAlLSCmxP1",
        "outputId": "efb32fde-c923-4af3-fc46-f3a771995f6b"
      },
      "execution_count": 13,
      "outputs": [
        {
          "output_type": "stream",
          "name": "stdout",
          "text": [
            "\n",
            "Drop rows with any NaN values:\n",
            "    Name   Age   Salary\n",
            "0  Alice  25.0  50000.0\n",
            "3  David  40.0  80000.0\n",
            "\n",
            "Fill missing values with a specific value:\n",
            "      Name        Age   Salary\n",
            "0    Alice  25.000000  50000.0\n",
            "1      Bob  33.333333  60000.0\n",
            "2  Unknown  35.000000      0.0\n",
            "3    David  40.000000  80000.0\n"
          ]
        }
      ]
    },
    {
      "cell_type": "code",
      "source": [
        "# Detect missing values with a Boolean DataFrame\n",
        "print(\"\\nBoolean DataFrame for missing values:\")\n",
        "print(df_dirty.isnull())"
      ],
      "metadata": {
        "colab": {
          "base_uri": "https://localhost:8080/"
        },
        "id": "PqiurulBmxNI",
        "outputId": "96297a65-e50e-48cb-bea1-5bb140a25bc2"
      },
      "execution_count": 14,
      "outputs": [
        {
          "output_type": "stream",
          "name": "stdout",
          "text": [
            "\n",
            "Boolean DataFrame for missing values:\n",
            "    Name    Age  Salary\n",
            "0  False  False   False\n",
            "1  False   True   False\n",
            "2   True  False    True\n",
            "3  False  False   False\n"
          ]
        }
      ]
    },
    {
      "cell_type": "code",
      "source": [
        "# -----------------------------------------------------------\n",
        "# 🔹 5. DATA MANIPULATION\n",
        "# -----------------------------------------------------------\n",
        "\n",
        "# Add a new column based on calculations\n",
        "df['Bonus'] = df['Salary'] * 0.1\n",
        "print(\"\\nDataFrame with Bonus column:\")\n",
        "print(df)\n",
        "\n",
        "# Rename columns using rename()\n",
        "print(\"\\nRename columns:\")\n",
        "df_renamed = df.rename(columns={'Salary': 'BaseSalary'})\n",
        "print(df_renamed)\n",
        "\n",
        "# Sort rows by a column in descending order\n",
        "print(\"\\nSort by Age descending:\")\n",
        "print(df.sort_values(by='Age', ascending=False))\n",
        "\n",
        "# Group by a derived boolean column and calculate mean\n",
        "print(\"\\nGroup by operation (average salary by age > 30 or not):\")\n",
        "df['AgeGroup'] = df['Age'] > 30\n",
        "print(df.groupby('AgeGroup')['Salary'].mean())"
      ],
      "metadata": {
        "colab": {
          "base_uri": "https://localhost:8080/"
        },
        "id": "aQqAhrPCnqcM",
        "outputId": "36807843-09d5-4976-f09a-d8e057cc4a8a"
      },
      "execution_count": 15,
      "outputs": [
        {
          "output_type": "stream",
          "name": "stdout",
          "text": [
            "\n",
            "DataFrame with Bonus column:\n",
            "      Name  Age  Salary   Bonus\n",
            "0    Alice   25   50000  5000.0\n",
            "1      Bob   30   60000  6000.0\n",
            "2  Charlie   35   70000  7000.0\n",
            "3    David   40   80000  8000.0\n",
            "\n",
            "Rename columns:\n",
            "      Name  Age  BaseSalary   Bonus\n",
            "0    Alice   25       50000  5000.0\n",
            "1      Bob   30       60000  6000.0\n",
            "2  Charlie   35       70000  7000.0\n",
            "3    David   40       80000  8000.0\n",
            "\n",
            "Sort by Age descending:\n",
            "      Name  Age  Salary   Bonus\n",
            "3    David   40   80000  8000.0\n",
            "2  Charlie   35   70000  7000.0\n",
            "1      Bob   30   60000  6000.0\n",
            "0    Alice   25   50000  5000.0\n",
            "\n",
            "Group by operation (average salary by age > 30 or not):\n",
            "AgeGroup\n",
            "False    55000.0\n",
            "True     75000.0\n",
            "Name: Salary, dtype: float64\n"
          ]
        }
      ]
    },
    {
      "cell_type": "code",
      "source": [
        "# Rename columns using rename()\n",
        "print(\"\\nRename columns:\")\n",
        "df_renamed = df.rename(columns={'Salary': 'BaseSalary'})\n",
        "print(df_renamed)\n",
        "\n"
      ],
      "metadata": {
        "colab": {
          "base_uri": "https://localhost:8080/"
        },
        "id": "AYuiatnrnqZu",
        "outputId": "e0d05a0d-748b-4109-8109-d4214f66d9c0"
      },
      "execution_count": 16,
      "outputs": [
        {
          "output_type": "stream",
          "name": "stdout",
          "text": [
            "\n",
            "Rename columns:\n",
            "      Name  Age  BaseSalary   Bonus  AgeGroup\n",
            "0    Alice   25       50000  5000.0     False\n",
            "1      Bob   30       60000  6000.0     False\n",
            "2  Charlie   35       70000  7000.0      True\n",
            "3    David   40       80000  8000.0      True\n"
          ]
        }
      ]
    },
    {
      "cell_type": "code",
      "source": [
        "# Sort rows by a column in descending order\n",
        "print(\"\\nSort by Age descending:\")\n",
        "print(df.sort_values(by='Age', ascending=False))\n",
        "\n",
        "# Group by a derived boolean column and calculate mean\n",
        "print(\"\\nGroup by operation (average salary by age > 30 or not):\")\n",
        "df['AgeGroup'] = df['Age'] > 30\n",
        "print(df.groupby('AgeGroup')['Salary'].mean())"
      ],
      "metadata": {
        "colab": {
          "base_uri": "https://localhost:8080/"
        },
        "id": "1X6RVpOLnqWz",
        "outputId": "c1742a79-0e16-431c-ca5b-ce0120e03045"
      },
      "execution_count": 17,
      "outputs": [
        {
          "output_type": "stream",
          "name": "stdout",
          "text": [
            "\n",
            "Sort by Age descending:\n",
            "      Name  Age  Salary   Bonus  AgeGroup\n",
            "3    David   40   80000  8000.0      True\n",
            "2  Charlie   35   70000  7000.0      True\n",
            "1      Bob   30   60000  6000.0     False\n",
            "0    Alice   25   50000  5000.0     False\n",
            "\n",
            "Group by operation (average salary by age > 30 or not):\n",
            "AgeGroup\n",
            "False    55000.0\n",
            "True     75000.0\n",
            "Name: Salary, dtype: float64\n"
          ]
        }
      ]
    },
    {
      "cell_type": "code",
      "source": [
        "# -----------------------------------------------------------\n",
        "# 🔹 6. SYNTHETIC DATA CREATION FOR PRACTICE\n",
        "# -----------------------------------------------------------\n",
        "\n",
        "# Create a synthetic DataFrame for practice with random data\n",
        "np.random.seed(1)\n",
        "num_rows = 10\n",
        "df_synth = pd.DataFrame({\n",
        "    'ID': np.arange(1, num_rows + 1),\n",
        "    'Score': np.random.randint(50, 100, size=num_rows),\n",
        "    'Passed': np.random.choice([True, False], size=num_rows)\n",
        "})\n",
        "\n",
        "print(\"\\nSynthetic DataFrame:\")\n",
        "print(df_synth)\n",
        "\n"
      ],
      "metadata": {
        "colab": {
          "base_uri": "https://localhost:8080/"
        },
        "id": "5_NWWKIOnxLU",
        "outputId": "b0ab1520-05b3-4e6d-c018-6a756acf7430"
      },
      "execution_count": 18,
      "outputs": [
        {
          "output_type": "stream",
          "name": "stdout",
          "text": [
            "\n",
            "Synthetic DataFrame:\n",
            "   ID  Score  Passed\n",
            "0   1     87   False\n",
            "1   2     93    True\n",
            "2   3     62   False\n",
            "3   4     58   False\n",
            "4   5     59    True\n",
            "5   6     61    True\n",
            "6   7     55   False\n",
            "7   8     65    True\n",
            "8   9     50    True\n",
            "9  10     66    True\n"
          ]
        }
      ]
    },
    {
      "cell_type": "code",
      "source": [
        "# Filter rows based on a condition\n",
        "print(\"\\nStudents who passed:\")\n",
        "print(df_synth[df_synth['Passed'] == True])\n",
        "\n",
        "# Calculate mean for filtered rows\n",
        "print(\"\\nAverage score of failed students:\")\n",
        "print(df_synth[df_synth['Passed'] == False]['Score'].mean())"
      ],
      "metadata": {
        "colab": {
          "base_uri": "https://localhost:8080/"
        },
        "id": "0CFx-ZAnnxFl",
        "outputId": "1b1b8139-4d1a-4cda-d343-dbd15ad7db13"
      },
      "execution_count": 19,
      "outputs": [
        {
          "output_type": "stream",
          "name": "stdout",
          "text": [
            "\n",
            "Students who passed:\n",
            "   ID  Score  Passed\n",
            "1   2     93    True\n",
            "4   5     59    True\n",
            "5   6     61    True\n",
            "7   8     65    True\n",
            "8   9     50    True\n",
            "9  10     66    True\n",
            "\n",
            "Average score of failed students:\n",
            "65.5\n"
          ]
        }
      ]
    },
    {
      "cell_type": "code",
      "source": [
        "# -----------------------------------------------------------\n",
        "# 🔹 7. INSPECTING DATAFRAME STRUCTURE\n",
        "# -----------------------------------------------------------\n",
        "\n",
        "# Get concise summary of DataFrame including types and non-null counts\n",
        "print(\"\\nDataFrame info:\")\n",
        "df.info()\n",
        "\n",
        "# Get basic statistics of numerical columns\n",
        "print(\"\\nDataFrame describe:\")\n",
        "print(df.describe())\n",
        "\n"
      ],
      "metadata": {
        "colab": {
          "base_uri": "https://localhost:8080/"
        },
        "id": "vHPAAoKlnxCu",
        "outputId": "fb16cfad-5366-407e-84e8-f6fc3f121d69"
      },
      "execution_count": 20,
      "outputs": [
        {
          "output_type": "stream",
          "name": "stdout",
          "text": [
            "\n",
            "DataFrame info:\n",
            "<class 'pandas.core.frame.DataFrame'>\n",
            "RangeIndex: 4 entries, 0 to 3\n",
            "Data columns (total 5 columns):\n",
            " #   Column    Non-Null Count  Dtype  \n",
            "---  ------    --------------  -----  \n",
            " 0   Name      4 non-null      object \n",
            " 1   Age       4 non-null      int64  \n",
            " 2   Salary    4 non-null      int64  \n",
            " 3   Bonus     4 non-null      float64\n",
            " 4   AgeGroup  4 non-null      bool   \n",
            "dtypes: bool(1), float64(1), int64(2), object(1)\n",
            "memory usage: 264.0+ bytes\n",
            "\n",
            "DataFrame describe:\n",
            "             Age        Salary        Bonus\n",
            "count   4.000000      4.000000     4.000000\n",
            "mean   32.500000  65000.000000  6500.000000\n",
            "std     6.454972  12909.944487  1290.994449\n",
            "min    25.000000  50000.000000  5000.000000\n",
            "25%    28.750000  57500.000000  5750.000000\n",
            "50%    32.500000  65000.000000  6500.000000\n",
            "75%    36.250000  72500.000000  7250.000000\n",
            "max    40.000000  80000.000000  8000.000000\n"
          ]
        }
      ]
    },
    {
      "cell_type": "code",
      "source": [
        "# Check data types of columns\n",
        "print(\"\\nData types of each column:\")\n",
        "print(df.dtypes)\n",
        "\n",
        "# View top rows\n",
        "print(\"\\nFirst 3 rows:\")\n",
        "print(df.head(3))\n",
        "\n",
        "# View bottom rows\n",
        "print(\"\\nLast 2 rows:\")\n",
        "print(df.tail(2))"
      ],
      "metadata": {
        "colab": {
          "base_uri": "https://localhost:8080/"
        },
        "id": "nRoIzxAYnxAH",
        "outputId": "b3ae9918-2e8c-46c1-e7d1-7464c0068df0"
      },
      "execution_count": 21,
      "outputs": [
        {
          "output_type": "stream",
          "name": "stdout",
          "text": [
            "\n",
            "Data types of each column:\n",
            "Name         object\n",
            "Age           int64\n",
            "Salary        int64\n",
            "Bonus       float64\n",
            "AgeGroup       bool\n",
            "dtype: object\n",
            "\n",
            "First 3 rows:\n",
            "      Name  Age  Salary   Bonus  AgeGroup\n",
            "0    Alice   25   50000  5000.0     False\n",
            "1      Bob   30   60000  6000.0     False\n",
            "2  Charlie   35   70000  7000.0      True\n",
            "\n",
            "Last 2 rows:\n",
            "      Name  Age  Salary   Bonus  AgeGroup\n",
            "2  Charlie   35   70000  7000.0      True\n",
            "3    David   40   80000  8000.0      True\n"
          ]
        }
      ]
    },
    {
      "cell_type": "code",
      "source": [
        "# -----------------------------------------------------------\n",
        "# 🔹 8. STATISTICAL & PROBABILITY FUNCTIONS IN PANDAS\n",
        "# -----------------------------------------------------------\n",
        "\n",
        "# Compute central tendency measures\n",
        "print(\"\\nMean Age:\", df['Age'].mean())\n",
        "print(\"Median Salary:\", df['Salary'].median())\n",
        "print(\"Mode of Bonus:\")\n",
        "print(df['Bonus'].mode())\n",
        "\n",
        "# Compute spread measures\n",
        "print(\"Standard Deviation of Salary:\", df['Salary'].std())\n",
        "print(\"Variance of Salary:\", df['Salary'].var())\n",
        "\n"
      ],
      "metadata": {
        "colab": {
          "base_uri": "https://localhost:8080/"
        },
        "id": "TfWZFADknw9O",
        "outputId": "28e48649-90f1-431c-a5e6-b1581f5007d1"
      },
      "execution_count": 22,
      "outputs": [
        {
          "output_type": "stream",
          "name": "stdout",
          "text": [
            "\n",
            "Mean Age: 32.5\n",
            "Median Salary: 65000.0\n",
            "Mode of Bonus:\n",
            "0    5000.0\n",
            "1    6000.0\n",
            "2    7000.0\n",
            "3    8000.0\n",
            "Name: Bonus, dtype: float64\n",
            "Standard Deviation of Salary: 12909.944487358056\n",
            "Variance of Salary: 166666666.66666666\n"
          ]
        }
      ]
    },
    {
      "cell_type": "code",
      "source": [
        "# Correlation and Covariance between columns\n",
        "print(\"\\nCorrelation between Age and Salary:\")\n",
        "print(df[['Age', 'Salary']].corr())\n",
        "\n",
        "print(\"\\nCovariance between Age and Salary:\")\n",
        "print(df[['Age', 'Salary']].cov())\n",
        "\n",
        "# Frequency of values\n",
        "print(\"\\nValue counts for AgeGroup:\")\n",
        "print(df['AgeGroup'].value_counts())\n",
        "\n"
      ],
      "metadata": {
        "colab": {
          "base_uri": "https://localhost:8080/"
        },
        "id": "2m2Mdi5NmxKN",
        "outputId": "cb7ab5c4-ae7e-43ef-c8d7-54d75ca2921d"
      },
      "execution_count": 23,
      "outputs": [
        {
          "output_type": "stream",
          "name": "stdout",
          "text": [
            "\n",
            "Correlation between Age and Salary:\n",
            "        Age  Salary\n",
            "Age     1.0     1.0\n",
            "Salary  1.0     1.0\n",
            "\n",
            "Covariance between Age and Salary:\n",
            "                 Age        Salary\n",
            "Age        41.666667  8.333333e+04\n",
            "Salary  83333.333333  1.666667e+08\n",
            "\n",
            "Value counts for AgeGroup:\n",
            "AgeGroup\n",
            "False    2\n",
            "True     2\n",
            "Name: count, dtype: int64\n"
          ]
        }
      ]
    },
    {
      "cell_type": "code",
      "source": [
        "# Cumulative statistics\n",
        "print(\"\\nCumulative sum of Salary:\")\n",
        "print(df['Salary'].cumsum())\n",
        "\n",
        "print(\"\\nCumulative max of Salary:\")\n",
        "print(df['Salary'].cummax())\n",
        "\n",
        "# Rank values\n",
        "print(\"\\nRank of Salary:\")\n",
        "print(df['Salary'].rank())\n",
        "\n",
        "# Quantile-based binning\n",
        "print(\"\\nQuantiles of Salary:\")\n",
        "print(df['Salary'].quantile([0.25, 0.5, 0.75]))"
      ],
      "metadata": {
        "colab": {
          "base_uri": "https://localhost:8080/"
        },
        "id": "x324Jlc0oFf8",
        "outputId": "0f4d02fa-b8fa-4252-84e6-65afd08bf9f8"
      },
      "execution_count": 24,
      "outputs": [
        {
          "output_type": "stream",
          "name": "stdout",
          "text": [
            "\n",
            "Cumulative sum of Salary:\n",
            "0     50000\n",
            "1    110000\n",
            "2    180000\n",
            "3    260000\n",
            "Name: Salary, dtype: int64\n",
            "\n",
            "Cumulative max of Salary:\n",
            "0    50000\n",
            "1    60000\n",
            "2    70000\n",
            "3    80000\n",
            "Name: Salary, dtype: int64\n",
            "\n",
            "Rank of Salary:\n",
            "0    1.0\n",
            "1    2.0\n",
            "2    3.0\n",
            "3    4.0\n",
            "Name: Salary, dtype: float64\n",
            "\n",
            "Quantiles of Salary:\n",
            "0.25    57500.0\n",
            "0.50    65000.0\n",
            "0.75    72500.0\n",
            "Name: Salary, dtype: float64\n"
          ]
        }
      ]
    },
    {
      "cell_type": "code",
      "source": [
        "# -----------------------------------------------------------\n",
        "# 🔹 9. LOADING DATA FROM DIFFERENT FORMATS\n",
        "# -----------------------------------------------------------\n",
        "\n",
        "# Note: These examples assume the files are present in the working directory.\n",
        "\n",
        "# Load data from CSV file\n",
        "# df_csv = pd.read_csv('data.csv')\n",
        "# print(\"\\nData loaded from CSV:\")\n",
        "# print(df_csv.head())\n",
        "\n",
        "# Load data from Excel file\n",
        "# df_excel = pd.read_excel('data.xlsx')\n",
        "# print(\"\\nData loaded from Excel:\")\n",
        "# print(df_excel.head())\n",
        "\n",
        "# Load data from JSON file\n",
        "# df_json = pd.read_json('data.json')\n",
        "# print(\"\\nData loaded from JSON:\")\n",
        "# print(df_json.head())\n",
        "\n",
        "# Load data from PDF using tabula (requires Java)\n",
        "# import tabula\n",
        "# df_pdf = tabula.read_pdf(\"data.pdf\", pages='all')[0]\n",
        "# print(\"\\nData loaded from PDF:\")\n",
        "# print(df_pdf.head())"
      ],
      "metadata": {
        "id": "QwhFHZl4oKw4"
      },
      "execution_count": 25,
      "outputs": []
    },
    {
      "cell_type": "code",
      "execution_count": 26,
      "metadata": {
        "colab": {
          "base_uri": "https://localhost:8080/"
        },
        "id": "lLZdMn-SmsVZ",
        "outputId": "59479866-5fef-471f-bcf6-a2fa54e374ae"
      },
      "outputs": [
        {
          "output_type": "stream",
          "name": "stdout",
          "text": [
            "\n",
            "Summary of Important Pandas Functions:\n",
            "                       Function                                   Purpose\n",
            "0                   pd.Series()    Create a one-dimensional labeled array\n",
            "1                pd.DataFrame()        Create a 2D labeled data structure\n",
            "2                     df.head()                      Display first n rows\n",
            "3                     df.tail()                       Display last n rows\n",
            "4                     df.info()  Summary including non-null values, types\n",
            "5                 df.describe()  Statistical summary of numerical columns\n",
            "6                     df.dtypes                 Data types of each column\n",
            "7                      df.loc[]          Label-based row/column selection\n",
            "8                     df.iloc[]       Position-based row/column selection\n",
            "9                  df['column']                    Select a single column\n",
            "10          df[['col1','col2']]                   Select multiple columns\n",
            "11                  df.dropna()           Remove rows with missing values\n",
            "12                  df.fillna()                       Fill missing values\n",
            "13                  df.isnull()                  Check for missing values\n",
            "14             df.sort_values()                     Sort by column values\n",
            "15                 df.groupby()          Group data and apply aggregation\n",
            "16  df.mean(), median(), mode()                    Central tendency stats\n",
            "17              df.std(), var()                Spread or dispersion stats\n",
            "18             df.corr(), cov()             Relationships between columns\n",
            "19            df.value_counts()                       Frequency of values\n",
            "20        df.cumsum(), cummax()                     Cumulative operations\n",
            "21                    df.rank()                             Ranks of data\n",
            "22                df.quantile()                             Get quantiles\n",
            "23                pd.read_csv()                             Read CSV file\n",
            "24              pd.read_excel()                           Read Excel file\n",
            "25               pd.read_json()                            Read JSON file\n"
          ]
        }
      ],
      "source": [
        "# -----------------------------------------------------------\n",
        "# 🔹 END OF PANDAS PRACTICAL\n",
        "# -----------------------------------------------------------\n",
        "\n",
        "# -----------------------------------------------------------\n",
        "# 📊 SUMMARY TABLE: Important Pandas Functions\n",
        "# -----------------------------------------------------------\n",
        "import pandas as pd\n",
        "\n",
        "summary_data = {\n",
        "    \"Function\": [\n",
        "        \"pd.Series()\",\n",
        "        \"pd.DataFrame()\",\n",
        "        \"df.head()\",\n",
        "        \"df.tail()\",\n",
        "        \"df.info()\",\n",
        "        \"df.describe()\",\n",
        "        \"df.dtypes\",\n",
        "        \"df.loc[]\",\n",
        "        \"df.iloc[]\",\n",
        "        \"df['column']\",\n",
        "        \"df[['col1','col2']]\",\n",
        "        \"df.dropna()\",\n",
        "        \"df.fillna()\",\n",
        "        \"df.isnull()\",\n",
        "        \"df.sort_values()\",\n",
        "        \"df.groupby()\",\n",
        "        \"df.mean(), median(), mode()\",\n",
        "        \"df.std(), var()\",\n",
        "        \"df.corr(), cov()\",\n",
        "        \"df.value_counts()\",\n",
        "        \"df.cumsum(), cummax()\",\n",
        "        \"df.rank()\",\n",
        "        \"df.quantile()\",\n",
        "        \"pd.read_csv()\",\n",
        "        \"pd.read_excel()\",\n",
        "        \"pd.read_json()\"\n",
        "    ],\n",
        "    \"Purpose\": [\n",
        "        \"Create a one-dimensional labeled array\",\n",
        "        \"Create a 2D labeled data structure\",\n",
        "        \"Display first n rows\",\n",
        "        \"Display last n rows\",\n",
        "        \"Summary including non-null values, types\",\n",
        "        \"Statistical summary of numerical columns\",\n",
        "        \"Data types of each column\",\n",
        "        \"Label-based row/column selection\",\n",
        "        \"Position-based row/column selection\",\n",
        "        \"Select a single column\",\n",
        "        \"Select multiple columns\",\n",
        "        \"Remove rows with missing values\",\n",
        "        \"Fill missing values\",\n",
        "        \"Check for missing values\",\n",
        "        \"Sort by column values\",\n",
        "        \"Group data and apply aggregation\",\n",
        "        \"Central tendency stats\",\n",
        "        \"Spread or dispersion stats\",\n",
        "        \"Relationships between columns\",\n",
        "        \"Frequency of values\",\n",
        "        \"Cumulative operations\",\n",
        "        \"Ranks of data\",\n",
        "        \"Get quantiles\",\n",
        "        \"Read CSV file\",\n",
        "        \"Read Excel file\",\n",
        "        \"Read JSON file\"\n",
        "    ]\n",
        "}\n",
        "\n",
        "summary_df = pd.DataFrame(summary_data)\n",
        "print(\"\\nSummary of Important Pandas Functions:\")\n",
        "print(summary_df)\n",
        "\n",
        "# -----------------------------------------------------------\n",
        "# 🔹 END OF NOTEBOOK\n",
        "# -----------------------------------------------------------\n"
      ]
    },
    {
      "cell_type": "code",
      "source": [],
      "metadata": {
        "id": "1DTcior0mtE1"
      },
      "execution_count": 26,
      "outputs": []
    }
  ]
}