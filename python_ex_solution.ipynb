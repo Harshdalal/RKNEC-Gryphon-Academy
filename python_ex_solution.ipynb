{
  "nbformat": 4,
  "nbformat_minor": 0,
  "metadata": {
    "colab": {
      "provenance": []
    },
    "kernelspec": {
      "name": "python3",
      "display_name": "Python 3"
    },
    "language_info": {
      "name": "python"
    }
  },
  "cells": [
    {
      "cell_type": "code",
      "execution_count": 3,
      "metadata": {
        "colab": {
          "base_uri": "https://localhost:8080/"
        },
        "id": "qWlyWpnkaIkU",
        "outputId": "c052522c-ea2f-4903-9e45-7103ee358321"
      },
      "outputs": [
        {
          "output_type": "stream",
          "name": "stdout",
          "text": [
            "🌍 Global Weather Insight System (Open-Meteo) 🌤️\n",
            "Supported cities:  New York, Mumbai, Tokyo, Delhi, Dubai, Nagpur, Pune\n",
            "Enter city names (comma-separated): nagpur\n",
            "\n",
            "Fetching weather data...\n",
            "\n",
            "All data: [('Nagpur', 25.6)]\n",
            "\n",
            "First 3 records: [('Nagpur', 25.6)]\n",
            "\n",
            "🔥 Cities with temp > 30°C: []\n",
            "\n",
            "✅ Unique hot cities set: set()\n",
            "\n",
            "📋 Summary:\n",
            "1. Nagpur - 25.6°C => ❄️ Cool\n"
          ]
        }
      ],
      "source": [
        "import requests  # Import the requests library to handle HTTP API calls\n",
        "\n",
        "# Constants\n",
        "BASE_URL = \"https://api.open-meteo.com/v1/forecast\"  # Base URL of the Open-Meteo weather API\n",
        "\n",
        "# Predefined latitude and longitude coordinates for selected cities\n",
        "CITY_COORDS = {\n",
        "    \"New York\": (40.7128, -74.0060),\n",
        "    \"Mumbai\": (19.0760, 72.8777),\n",
        "    \"Tokyo\": (35.6762, 139.6503),\n",
        "    \"Delhi\": (28.6139, 77.2090),\n",
        "    \"Dubai\": (25.276987, 55.296249),\n",
        "    \"Nagpur\": (21.1458, 79.0882),\n",
        "    \"Pune\": (18.5204, 73.8567)\n",
        "}\n",
        "\n",
        "# Function to fetch current weather temperature from the API\n",
        "def get_weather(city):\n",
        "    # Check if the city is in the supported city list\n",
        "    if city not in CITY_COORDS:\n",
        "        print(f\"[ERROR] City '{city}' is not supported.\")\n",
        "        return None\n",
        "\n",
        "    lat, lon = CITY_COORDS[city]  # Get the latitude and longitude for the city\n",
        "\n",
        "    try:\n",
        "        # Make a GET request to the Open-Meteo API\n",
        "        response = requests.get(BASE_URL, params={\n",
        "            \"latitude\": lat,\n",
        "            \"longitude\": lon,\n",
        "            \"current_weather\": True  # Request only current weather information\n",
        "        })\n",
        "\n",
        "        response.raise_for_status()  # Raise exception if HTTP response is not OK (e.g., 404, 500)\n",
        "        data = response.json()  # Convert the JSON response to a Python dictionary\n",
        "\n",
        "        temp = data[\"current_weather\"][\"temperature\"]  # Extract current temperature from the response\n",
        "        return (city, temp)  # Return city name and temperature as a tuple\n",
        "\n",
        "    except Exception as e:\n",
        "        # Handle any kind of error during the API request\n",
        "        print(f\"[ERROR] Failed to fetch weather for {city}: {e}\")\n",
        "        return None\n",
        "\n",
        "# Function to get weather data for a list of cities\n",
        "def process_weather_data(city_list):\n",
        "    weather_data = []  # Initialize list to hold city-temperature pairs\n",
        "    for city in city_list:\n",
        "        result = get_weather(city)  # Call the get_weather function\n",
        "        if result:\n",
        "            weather_data.append(result)  # Append only valid results\n",
        "    return weather_data  # Return list of tuples\n",
        "\n",
        "# Function to filter cities with temperature greater than a threshold using list comprehension\n",
        "def get_hot_cities(data, threshold=30):\n",
        "    return [city for city, temp in data if temp > threshold]  # Return only cities with temperature > threshold\n",
        "\n",
        "# Main program logic\n",
        "def main():\n",
        "    print(\"🌍 Global Weather Insight System (Open-Meteo) 🌤️\")\n",
        "    print(\"Supported cities: \", \", \".join(CITY_COORDS.keys()))  # Display supported cities\n",
        "\n",
        "    # Prompt user to enter city names\n",
        "    cities_input = input(\"Enter city names (comma-separated): \").strip()\n",
        "\n",
        "    # Convert input into a cleaned list of city names (title-cased)\n",
        "    city_list = [city.strip().title() for city in cities_input.split(\",\")]\n",
        "\n",
        "    print(\"\\nFetching weather data...\\n\")\n",
        "    weather_data = process_weather_data(city_list)  # Get weather data for entered cities\n",
        "\n",
        "    if not weather_data:\n",
        "        print(\"No valid data retrieved.\")  # If no data is available, exit\n",
        "        return\n",
        "\n",
        "    print(f\"All data: {weather_data}\")  # Print complete weather data\n",
        "    print(f\"\\nFirst 3 records: {weather_data[:3]}\")  # Print first 3 results as a sample\n",
        "\n",
        "    hot_cities = get_hot_cities(weather_data)  # Filter cities hotter than threshold\n",
        "    print(f\"\\n🔥 Cities with temp > 30°C: {hot_cities}\")\n",
        "\n",
        "    unique_hot_cities = set(hot_cities)  # Remove duplicates using set\n",
        "    print(f\"\\n✅ Unique hot cities set: {unique_hot_cities}\")\n",
        "\n",
        "    # Print final summary with temperature status\n",
        "    print(\"\\n📋 Summary:\")\n",
        "    for i, (city, temp) in enumerate(weather_data):\n",
        "        condition = \"🔥 Hot\" if temp > 30 else \"❄️ Cool\"\n",
        "        print(f\"{i+1}. {city} - {temp}°C => {condition}\")\n",
        "\n",
        "# Run the main function when the script is executed\n",
        "if __name__ == \"__main__\":\n",
        "    main()\n"
      ]
    },
    {
      "cell_type": "markdown",
      "source": [
        "#✅ Key Learning Concepts Highlighted:\n",
        "\n",
        "Use of API without authentication using Open-Meteo.\n",
        "\n",
        "Handling city lookups via a dictionary (CITY_COORDS).\n",
        "\n",
        "Proper error handling using try-except.\n",
        "\n",
        "Use of list comprehensions for filtering.\n",
        "\n",
        "Demonstration of basic functional decomposition in Python (get_weather, process_weather_data, etc.).\n",
        "\n",
        "User input processing and title-casing for uniformity.\n",
        "\n",
        "Use of set() to remove duplicates."
      ],
      "metadata": {
        "id": "WuLu163GayEk"
      }
    },
    {
      "cell_type": "code",
      "source": [],
      "metadata": {
        "id": "DDyMKf8aaJQs"
      },
      "execution_count": null,
      "outputs": []
    }
  ]
}